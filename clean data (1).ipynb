{
 "cells": [
  {
   "cell_type": "code",
   "execution_count": 94,
   "metadata": {
    "ExecuteTime": {
     "end_time": "2021-04-29T13:55:27.922379Z",
     "start_time": "2021-04-29T13:55:27.917227Z"
    }
   },
   "outputs": [],
   "source": [
    "import pandas as pd\n",
    "import numpy as np\n",
    "import datetime as dt\n",
    "from datetime import datetime,timedelta\n",
    "import seaborn as sns\n",
    "import matplotlib.pyplot as plt\n",
    "from copy import deepcopy\n",
    "import time\n",
    "from timeit import default_timer as timer\n",
    "import calendar\n",
    "import datetime as dt\n",
    "from timeit import default_timer as timer\n",
    "\n",
    "import numpy as np\n",
    "import pandas as pd\n",
    "import numpy as np\n",
    "\n",
    "import seaborn as sns\n",
    "import matplotlib.pyplot as plt\n",
    "from copy import deepcopy"
   ]
  },
  {
   "cell_type": "code",
   "execution_count": 95,
   "metadata": {
    "ExecuteTime": {
     "end_time": "2021-04-29T13:55:37.143944Z",
     "start_time": "2021-04-29T13:55:27.927693Z"
    }
   },
   "outputs": [
    {
     "data": {
      "text/html": [
       "<div>\n",
       "<style scoped>\n",
       "    .dataframe tbody tr th:only-of-type {\n",
       "        vertical-align: middle;\n",
       "    }\n",
       "\n",
       "    .dataframe tbody tr th {\n",
       "        vertical-align: top;\n",
       "    }\n",
       "\n",
       "    .dataframe thead th {\n",
       "        text-align: right;\n",
       "    }\n",
       "</style>\n",
       "<table border=\"1\" class=\"dataframe\">\n",
       "  <thead>\n",
       "    <tr style=\"text-align: right;\">\n",
       "      <th></th>\n",
       "      <th>Recnum</th>\n",
       "      <th>Cardnum</th>\n",
       "      <th>Date</th>\n",
       "      <th>Merchnum</th>\n",
       "      <th>Merch description</th>\n",
       "      <th>Merch state</th>\n",
       "      <th>Merch zip</th>\n",
       "      <th>Transtype</th>\n",
       "      <th>Amount</th>\n",
       "      <th>Fraud</th>\n",
       "    </tr>\n",
       "  </thead>\n",
       "  <tbody>\n",
       "    <tr>\n",
       "      <th>0</th>\n",
       "      <td>1</td>\n",
       "      <td>5142190439</td>\n",
       "      <td>2010-01-01</td>\n",
       "      <td>5509006296254</td>\n",
       "      <td>FEDEX SHP 12/23/09 AB#</td>\n",
       "      <td>TN</td>\n",
       "      <td>38118.0</td>\n",
       "      <td>P</td>\n",
       "      <td>3.62</td>\n",
       "      <td>0</td>\n",
       "    </tr>\n",
       "    <tr>\n",
       "      <th>1</th>\n",
       "      <td>2</td>\n",
       "      <td>5142183973</td>\n",
       "      <td>2010-01-01</td>\n",
       "      <td>61003026333</td>\n",
       "      <td>SERVICE MERCHANDISE #81</td>\n",
       "      <td>MA</td>\n",
       "      <td>1803.0</td>\n",
       "      <td>P</td>\n",
       "      <td>31.42</td>\n",
       "      <td>0</td>\n",
       "    </tr>\n",
       "    <tr>\n",
       "      <th>2</th>\n",
       "      <td>3</td>\n",
       "      <td>5142131721</td>\n",
       "      <td>2010-01-01</td>\n",
       "      <td>4503082993600</td>\n",
       "      <td>OFFICE DEPOT #191</td>\n",
       "      <td>MD</td>\n",
       "      <td>20706.0</td>\n",
       "      <td>P</td>\n",
       "      <td>178.49</td>\n",
       "      <td>0</td>\n",
       "    </tr>\n",
       "    <tr>\n",
       "      <th>3</th>\n",
       "      <td>4</td>\n",
       "      <td>5142148452</td>\n",
       "      <td>2010-01-01</td>\n",
       "      <td>5509006296254</td>\n",
       "      <td>FEDEX SHP 12/28/09 AB#</td>\n",
       "      <td>TN</td>\n",
       "      <td>38118.0</td>\n",
       "      <td>P</td>\n",
       "      <td>3.62</td>\n",
       "      <td>0</td>\n",
       "    </tr>\n",
       "    <tr>\n",
       "      <th>4</th>\n",
       "      <td>5</td>\n",
       "      <td>5142190439</td>\n",
       "      <td>2010-01-01</td>\n",
       "      <td>5509006296254</td>\n",
       "      <td>FEDEX SHP 12/23/09 AB#</td>\n",
       "      <td>TN</td>\n",
       "      <td>38118.0</td>\n",
       "      <td>P</td>\n",
       "      <td>3.62</td>\n",
       "      <td>0</td>\n",
       "    </tr>\n",
       "    <tr>\n",
       "      <th>...</th>\n",
       "      <td>...</td>\n",
       "      <td>...</td>\n",
       "      <td>...</td>\n",
       "      <td>...</td>\n",
       "      <td>...</td>\n",
       "      <td>...</td>\n",
       "      <td>...</td>\n",
       "      <td>...</td>\n",
       "      <td>...</td>\n",
       "      <td>...</td>\n",
       "    </tr>\n",
       "    <tr>\n",
       "      <th>96748</th>\n",
       "      <td>96749</td>\n",
       "      <td>5142276053</td>\n",
       "      <td>2010-12-31</td>\n",
       "      <td>3500000006160</td>\n",
       "      <td>BEST BUY      00001610</td>\n",
       "      <td>KY</td>\n",
       "      <td>41042.0</td>\n",
       "      <td>P</td>\n",
       "      <td>84.79</td>\n",
       "      <td>0</td>\n",
       "    </tr>\n",
       "    <tr>\n",
       "      <th>96749</th>\n",
       "      <td>96750</td>\n",
       "      <td>5142225701</td>\n",
       "      <td>2010-12-31</td>\n",
       "      <td>8090710030950</td>\n",
       "      <td>MARKUS OFFICE SUPPLIES</td>\n",
       "      <td>OH</td>\n",
       "      <td>45248.0</td>\n",
       "      <td>P</td>\n",
       "      <td>118.75</td>\n",
       "      <td>0</td>\n",
       "    </tr>\n",
       "    <tr>\n",
       "      <th>96750</th>\n",
       "      <td>96751</td>\n",
       "      <td>5142226486</td>\n",
       "      <td>2010-12-31</td>\n",
       "      <td>4503057341100</td>\n",
       "      <td>TECH PAC, INC</td>\n",
       "      <td>OH</td>\n",
       "      <td>45150.0</td>\n",
       "      <td>P</td>\n",
       "      <td>363.56</td>\n",
       "      <td>0</td>\n",
       "    </tr>\n",
       "    <tr>\n",
       "      <th>96751</th>\n",
       "      <td>96752</td>\n",
       "      <td>5142244619</td>\n",
       "      <td>2010-12-31</td>\n",
       "      <td>8834000695412</td>\n",
       "      <td>BUY.COM</td>\n",
       "      <td>CA</td>\n",
       "      <td>92656.0</td>\n",
       "      <td>P</td>\n",
       "      <td>2202.03</td>\n",
       "      <td>0</td>\n",
       "    </tr>\n",
       "    <tr>\n",
       "      <th>96752</th>\n",
       "      <td>96753</td>\n",
       "      <td>5142243247</td>\n",
       "      <td>2010-12-31</td>\n",
       "      <td>9108347680006</td>\n",
       "      <td>STAPLES NATIONAL #471</td>\n",
       "      <td>NJ</td>\n",
       "      <td>7606.0</td>\n",
       "      <td>P</td>\n",
       "      <td>554.64</td>\n",
       "      <td>0</td>\n",
       "    </tr>\n",
       "  </tbody>\n",
       "</table>\n",
       "<p>96753 rows × 10 columns</p>\n",
       "</div>"
      ],
      "text/plain": [
       "       Recnum     Cardnum       Date       Merchnum        Merch description  \\\n",
       "0           1  5142190439 2010-01-01  5509006296254   FEDEX SHP 12/23/09 AB#   \n",
       "1           2  5142183973 2010-01-01    61003026333  SERVICE MERCHANDISE #81   \n",
       "2           3  5142131721 2010-01-01  4503082993600        OFFICE DEPOT #191   \n",
       "3           4  5142148452 2010-01-01  5509006296254   FEDEX SHP 12/28/09 AB#   \n",
       "4           5  5142190439 2010-01-01  5509006296254   FEDEX SHP 12/23/09 AB#   \n",
       "...       ...         ...        ...            ...                      ...   \n",
       "96748   96749  5142276053 2010-12-31  3500000006160   BEST BUY      00001610   \n",
       "96749   96750  5142225701 2010-12-31  8090710030950   MARKUS OFFICE SUPPLIES   \n",
       "96750   96751  5142226486 2010-12-31  4503057341100            TECH PAC, INC   \n",
       "96751   96752  5142244619 2010-12-31  8834000695412                  BUY.COM   \n",
       "96752   96753  5142243247 2010-12-31  9108347680006    STAPLES NATIONAL #471   \n",
       "\n",
       "      Merch state  Merch zip Transtype   Amount  Fraud  \n",
       "0              TN    38118.0         P     3.62      0  \n",
       "1              MA     1803.0         P    31.42      0  \n",
       "2              MD    20706.0         P   178.49      0  \n",
       "3              TN    38118.0         P     3.62      0  \n",
       "4              TN    38118.0         P     3.62      0  \n",
       "...           ...        ...       ...      ...    ...  \n",
       "96748          KY    41042.0         P    84.79      0  \n",
       "96749          OH    45248.0         P   118.75      0  \n",
       "96750          OH    45150.0         P   363.56      0  \n",
       "96751          CA    92656.0         P  2202.03      0  \n",
       "96752          NJ     7606.0         P   554.64      0  \n",
       "\n",
       "[96753 rows x 10 columns]"
      ]
     },
     "execution_count": 95,
     "metadata": {},
     "output_type": "execute_result"
    }
   ],
   "source": [
    "df = pd.read_excel('card transactions.xlsx')\n",
    "\n",
    "df"
   ]
  },
  {
   "cell_type": "code",
   "execution_count": 3,
   "metadata": {
    "ExecuteTime": {
     "end_time": "2021-04-29T13:55:37.170736Z",
     "start_time": "2021-04-29T13:55:37.145577Z"
    }
   },
   "outputs": [
    {
     "name": "stdout",
     "output_type": "stream",
     "text": [
      "<class 'pandas.core.frame.DataFrame'>\n",
      "RangeIndex: 96753 entries, 0 to 96752\n",
      "Data columns (total 10 columns):\n",
      " #   Column             Non-Null Count  Dtype         \n",
      "---  ------             --------------  -----         \n",
      " 0   Recnum             96753 non-null  int64         \n",
      " 1   Cardnum            96753 non-null  int64         \n",
      " 2   Date               96753 non-null  datetime64[ns]\n",
      " 3   Merchnum           93378 non-null  object        \n",
      " 4   Merch description  96753 non-null  object        \n",
      " 5   Merch state        95558 non-null  object        \n",
      " 6   Merch zip          92097 non-null  float64       \n",
      " 7   Transtype          96753 non-null  object        \n",
      " 8   Amount             96753 non-null  float64       \n",
      " 9   Fraud              96753 non-null  int64         \n",
      "dtypes: datetime64[ns](1), float64(2), int64(3), object(4)\n",
      "memory usage: 7.4+ MB\n"
     ]
    }
   ],
   "source": [
    "df.info()"
   ]
  },
  {
   "cell_type": "code",
   "execution_count": 711,
   "metadata": {
    "ExecuteTime": {
     "end_time": "2021-04-29T13:55:37.175046Z",
     "start_time": "2021-04-29T13:55:37.173193Z"
    }
   },
   "outputs": [],
   "source": [
    "#df = df.drop(columns=['Recnum'])"
   ]
  },
  {
   "cell_type": "markdown",
   "metadata": {},
   "source": [
    "# Match zip&state\n"
   ]
  },
  {
   "cell_type": "code",
   "execution_count": 96,
   "metadata": {
    "ExecuteTime": {
     "end_time": "2021-04-29T13:55:37.211399Z",
     "start_time": "2021-04-29T13:55:37.178171Z"
    },
    "scrolled": true
   },
   "outputs": [
    {
     "data": {
      "text/html": [
       "<div>\n",
       "<style scoped>\n",
       "    .dataframe tbody tr th:only-of-type {\n",
       "        vertical-align: middle;\n",
       "    }\n",
       "\n",
       "    .dataframe tbody tr th {\n",
       "        vertical-align: top;\n",
       "    }\n",
       "\n",
       "    .dataframe thead th {\n",
       "        text-align: right;\n",
       "    }\n",
       "</style>\n",
       "<table border=\"1\" class=\"dataframe\">\n",
       "  <thead>\n",
       "    <tr style=\"text-align: right;\">\n",
       "      <th></th>\n",
       "      <th>State Name</th>\n",
       "      <th>Merch state</th>\n",
       "      <th>Zip_min</th>\n",
       "      <th>Zip_max</th>\n",
       "    </tr>\n",
       "  </thead>\n",
       "  <tbody>\n",
       "    <tr>\n",
       "      <th>0</th>\n",
       "      <td>Alaska</td>\n",
       "      <td>AK</td>\n",
       "      <td>99501</td>\n",
       "      <td>99950</td>\n",
       "    </tr>\n",
       "    <tr>\n",
       "      <th>1</th>\n",
       "      <td>Alabama</td>\n",
       "      <td>AL</td>\n",
       "      <td>35004</td>\n",
       "      <td>36925</td>\n",
       "    </tr>\n",
       "    <tr>\n",
       "      <th>2</th>\n",
       "      <td>Arkansas</td>\n",
       "      <td>AR</td>\n",
       "      <td>71601</td>\n",
       "      <td>72959</td>\n",
       "    </tr>\n",
       "    <tr>\n",
       "      <th>3</th>\n",
       "      <td>Arizona</td>\n",
       "      <td>AZ</td>\n",
       "      <td>85001</td>\n",
       "      <td>86556</td>\n",
       "    </tr>\n",
       "    <tr>\n",
       "      <th>4</th>\n",
       "      <td>California</td>\n",
       "      <td>CA</td>\n",
       "      <td>90001</td>\n",
       "      <td>96162</td>\n",
       "    </tr>\n",
       "    <tr>\n",
       "      <th>5</th>\n",
       "      <td>Colorado</td>\n",
       "      <td>CO</td>\n",
       "      <td>80001</td>\n",
       "      <td>81658</td>\n",
       "    </tr>\n",
       "    <tr>\n",
       "      <th>6</th>\n",
       "      <td>Connecticut</td>\n",
       "      <td>CT</td>\n",
       "      <td>6001</td>\n",
       "      <td>6928</td>\n",
       "    </tr>\n",
       "    <tr>\n",
       "      <th>7</th>\n",
       "      <td>Dist of Columbia</td>\n",
       "      <td>DC</td>\n",
       "      <td>20001</td>\n",
       "      <td>20799</td>\n",
       "    </tr>\n",
       "    <tr>\n",
       "      <th>8</th>\n",
       "      <td>Delaware</td>\n",
       "      <td>DE</td>\n",
       "      <td>19701</td>\n",
       "      <td>19980</td>\n",
       "    </tr>\n",
       "    <tr>\n",
       "      <th>9</th>\n",
       "      <td>Florida</td>\n",
       "      <td>FL</td>\n",
       "      <td>32004</td>\n",
       "      <td>34997</td>\n",
       "    </tr>\n",
       "    <tr>\n",
       "      <th>10</th>\n",
       "      <td>Georgia</td>\n",
       "      <td>GA</td>\n",
       "      <td>30001</td>\n",
       "      <td>31999</td>\n",
       "    </tr>\n",
       "    <tr>\n",
       "      <th>11</th>\n",
       "      <td>Hawaii</td>\n",
       "      <td>HI</td>\n",
       "      <td>96701</td>\n",
       "      <td>96898</td>\n",
       "    </tr>\n",
       "    <tr>\n",
       "      <th>12</th>\n",
       "      <td>Iowa</td>\n",
       "      <td>IA</td>\n",
       "      <td>50001</td>\n",
       "      <td>52809</td>\n",
       "    </tr>\n",
       "    <tr>\n",
       "      <th>13</th>\n",
       "      <td>Idaho</td>\n",
       "      <td>ID</td>\n",
       "      <td>83201</td>\n",
       "      <td>83876</td>\n",
       "    </tr>\n",
       "    <tr>\n",
       "      <th>14</th>\n",
       "      <td>Illinois</td>\n",
       "      <td>IL</td>\n",
       "      <td>60001</td>\n",
       "      <td>62999</td>\n",
       "    </tr>\n",
       "    <tr>\n",
       "      <th>15</th>\n",
       "      <td>Indiana</td>\n",
       "      <td>IN</td>\n",
       "      <td>46001</td>\n",
       "      <td>47997</td>\n",
       "    </tr>\n",
       "    <tr>\n",
       "      <th>16</th>\n",
       "      <td>Kansas</td>\n",
       "      <td>KS</td>\n",
       "      <td>66002</td>\n",
       "      <td>67954</td>\n",
       "    </tr>\n",
       "    <tr>\n",
       "      <th>17</th>\n",
       "      <td>Kentucky</td>\n",
       "      <td>KY</td>\n",
       "      <td>40003</td>\n",
       "      <td>42788</td>\n",
       "    </tr>\n",
       "    <tr>\n",
       "      <th>18</th>\n",
       "      <td>Louisiana</td>\n",
       "      <td>LA</td>\n",
       "      <td>70001</td>\n",
       "      <td>71497</td>\n",
       "    </tr>\n",
       "    <tr>\n",
       "      <th>19</th>\n",
       "      <td>Massachusetts</td>\n",
       "      <td>MA</td>\n",
       "      <td>1001</td>\n",
       "      <td>2791</td>\n",
       "    </tr>\n",
       "    <tr>\n",
       "      <th>20</th>\n",
       "      <td>Maryland</td>\n",
       "      <td>MD</td>\n",
       "      <td>20331</td>\n",
       "      <td>21930</td>\n",
       "    </tr>\n",
       "    <tr>\n",
       "      <th>21</th>\n",
       "      <td>Maine</td>\n",
       "      <td>ME</td>\n",
       "      <td>3901</td>\n",
       "      <td>4992</td>\n",
       "    </tr>\n",
       "    <tr>\n",
       "      <th>22</th>\n",
       "      <td>Michigan</td>\n",
       "      <td>MI</td>\n",
       "      <td>48001</td>\n",
       "      <td>49971</td>\n",
       "    </tr>\n",
       "    <tr>\n",
       "      <th>23</th>\n",
       "      <td>Minnesota</td>\n",
       "      <td>MN</td>\n",
       "      <td>55001</td>\n",
       "      <td>56763</td>\n",
       "    </tr>\n",
       "    <tr>\n",
       "      <th>24</th>\n",
       "      <td>kc96 DataMO</td>\n",
       "      <td>MO</td>\n",
       "      <td>63001</td>\n",
       "      <td>65899</td>\n",
       "    </tr>\n",
       "    <tr>\n",
       "      <th>25</th>\n",
       "      <td>Mississippi</td>\n",
       "      <td>MS</td>\n",
       "      <td>38601</td>\n",
       "      <td>39776</td>\n",
       "    </tr>\n",
       "    <tr>\n",
       "      <th>26</th>\n",
       "      <td>Montana</td>\n",
       "      <td>MT</td>\n",
       "      <td>59001</td>\n",
       "      <td>59937</td>\n",
       "    </tr>\n",
       "    <tr>\n",
       "      <th>27</th>\n",
       "      <td>North Carolina</td>\n",
       "      <td>NC</td>\n",
       "      <td>27006</td>\n",
       "      <td>28909</td>\n",
       "    </tr>\n",
       "    <tr>\n",
       "      <th>28</th>\n",
       "      <td>North Dakota</td>\n",
       "      <td>ND</td>\n",
       "      <td>58001</td>\n",
       "      <td>58856</td>\n",
       "    </tr>\n",
       "    <tr>\n",
       "      <th>29</th>\n",
       "      <td>Nebraska</td>\n",
       "      <td>NE</td>\n",
       "      <td>68001</td>\n",
       "      <td>69367</td>\n",
       "    </tr>\n",
       "    <tr>\n",
       "      <th>30</th>\n",
       "      <td>New Hampshire</td>\n",
       "      <td>NH</td>\n",
       "      <td>3031</td>\n",
       "      <td>3897</td>\n",
       "    </tr>\n",
       "    <tr>\n",
       "      <th>31</th>\n",
       "      <td>New Jersey</td>\n",
       "      <td>NJ</td>\n",
       "      <td>7001</td>\n",
       "      <td>8989</td>\n",
       "    </tr>\n",
       "    <tr>\n",
       "      <th>32</th>\n",
       "      <td>New Mexico</td>\n",
       "      <td>NM</td>\n",
       "      <td>87001</td>\n",
       "      <td>88441</td>\n",
       "    </tr>\n",
       "    <tr>\n",
       "      <th>33</th>\n",
       "      <td>Nevada</td>\n",
       "      <td>NV</td>\n",
       "      <td>88901</td>\n",
       "      <td>89883</td>\n",
       "    </tr>\n",
       "    <tr>\n",
       "      <th>34</th>\n",
       "      <td>New York</td>\n",
       "      <td>NY</td>\n",
       "      <td>10001</td>\n",
       "      <td>14975</td>\n",
       "    </tr>\n",
       "    <tr>\n",
       "      <th>35</th>\n",
       "      <td>Ohio</td>\n",
       "      <td>OH</td>\n",
       "      <td>43001</td>\n",
       "      <td>45999</td>\n",
       "    </tr>\n",
       "    <tr>\n",
       "      <th>36</th>\n",
       "      <td>Oklahoma</td>\n",
       "      <td>OK</td>\n",
       "      <td>73001</td>\n",
       "      <td>74966</td>\n",
       "    </tr>\n",
       "    <tr>\n",
       "      <th>37</th>\n",
       "      <td>Oregon</td>\n",
       "      <td>OR</td>\n",
       "      <td>97001</td>\n",
       "      <td>97920</td>\n",
       "    </tr>\n",
       "    <tr>\n",
       "      <th>38</th>\n",
       "      <td>Pennsylvania</td>\n",
       "      <td>PA</td>\n",
       "      <td>15001</td>\n",
       "      <td>19640</td>\n",
       "    </tr>\n",
       "    <tr>\n",
       "      <th>39</th>\n",
       "      <td>Puerto Rico</td>\n",
       "      <td>PR</td>\n",
       "      <td>600</td>\n",
       "      <td>999</td>\n",
       "    </tr>\n",
       "    <tr>\n",
       "      <th>40</th>\n",
       "      <td>Rhode Island</td>\n",
       "      <td>RI</td>\n",
       "      <td>2801</td>\n",
       "      <td>2940</td>\n",
       "    </tr>\n",
       "    <tr>\n",
       "      <th>41</th>\n",
       "      <td>South Carolina</td>\n",
       "      <td>SC</td>\n",
       "      <td>29001</td>\n",
       "      <td>29948</td>\n",
       "    </tr>\n",
       "    <tr>\n",
       "      <th>42</th>\n",
       "      <td>South Dakota</td>\n",
       "      <td>SD</td>\n",
       "      <td>57001</td>\n",
       "      <td>57799</td>\n",
       "    </tr>\n",
       "    <tr>\n",
       "      <th>43</th>\n",
       "      <td>Tennessee</td>\n",
       "      <td>TN</td>\n",
       "      <td>37010</td>\n",
       "      <td>38589</td>\n",
       "    </tr>\n",
       "    <tr>\n",
       "      <th>44</th>\n",
       "      <td>Texas</td>\n",
       "      <td>TX</td>\n",
       "      <td>75001</td>\n",
       "      <td>88589</td>\n",
       "    </tr>\n",
       "    <tr>\n",
       "      <th>45</th>\n",
       "      <td>Utah</td>\n",
       "      <td>UT</td>\n",
       "      <td>84001</td>\n",
       "      <td>84784</td>\n",
       "    </tr>\n",
       "    <tr>\n",
       "      <th>46</th>\n",
       "      <td>Virginia</td>\n",
       "      <td>VA</td>\n",
       "      <td>20040</td>\n",
       "      <td>24658</td>\n",
       "    </tr>\n",
       "    <tr>\n",
       "      <th>47</th>\n",
       "      <td>Vermont</td>\n",
       "      <td>VT</td>\n",
       "      <td>5001</td>\n",
       "      <td>5907</td>\n",
       "    </tr>\n",
       "    <tr>\n",
       "      <th>48</th>\n",
       "      <td>Washington</td>\n",
       "      <td>WA</td>\n",
       "      <td>98001</td>\n",
       "      <td>99403</td>\n",
       "    </tr>\n",
       "    <tr>\n",
       "      <th>49</th>\n",
       "      <td>Wisconsin</td>\n",
       "      <td>WI</td>\n",
       "      <td>53001</td>\n",
       "      <td>54990</td>\n",
       "    </tr>\n",
       "    <tr>\n",
       "      <th>50</th>\n",
       "      <td>West Virginia</td>\n",
       "      <td>WV</td>\n",
       "      <td>24701</td>\n",
       "      <td>26886</td>\n",
       "    </tr>\n",
       "    <tr>\n",
       "      <th>51</th>\n",
       "      <td>Wyoming</td>\n",
       "      <td>WY</td>\n",
       "      <td>82001</td>\n",
       "      <td>83128</td>\n",
       "    </tr>\n",
       "  </tbody>\n",
       "</table>\n",
       "</div>"
      ],
      "text/plain": [
       "          State Name Merch state  Zip_min  Zip_max\n",
       "0             Alaska          AK    99501    99950\n",
       "1            Alabama          AL    35004    36925\n",
       "2           Arkansas          AR    71601    72959\n",
       "3            Arizona          AZ    85001    86556\n",
       "4         California          CA    90001    96162\n",
       "5           Colorado          CO    80001    81658\n",
       "6        Connecticut          CT     6001     6928\n",
       "7   Dist of Columbia          DC    20001    20799\n",
       "8           Delaware          DE    19701    19980\n",
       "9            Florida          FL    32004    34997\n",
       "10           Georgia          GA    30001    31999\n",
       "11            Hawaii          HI    96701    96898\n",
       "12              Iowa          IA    50001    52809\n",
       "13             Idaho          ID    83201    83876\n",
       "14          Illinois          IL    60001    62999\n",
       "15           Indiana          IN    46001    47997\n",
       "16            Kansas          KS    66002    67954\n",
       "17          Kentucky          KY    40003    42788\n",
       "18         Louisiana          LA    70001    71497\n",
       "19     Massachusetts          MA     1001     2791\n",
       "20          Maryland          MD    20331    21930\n",
       "21             Maine          ME     3901     4992\n",
       "22          Michigan          MI    48001    49971\n",
       "23         Minnesota          MN    55001    56763\n",
       "24       kc96 DataMO          MO    63001    65899\n",
       "25       Mississippi          MS    38601    39776\n",
       "26           Montana          MT    59001    59937\n",
       "27    North Carolina          NC    27006    28909\n",
       "28      North Dakota          ND    58001    58856\n",
       "29          Nebraska          NE    68001    69367\n",
       "30     New Hampshire          NH     3031     3897\n",
       "31        New Jersey          NJ     7001     8989\n",
       "32        New Mexico          NM    87001    88441\n",
       "33            Nevada          NV    88901    89883\n",
       "34          New York          NY    10001    14975\n",
       "35              Ohio          OH    43001    45999\n",
       "36          Oklahoma          OK    73001    74966\n",
       "37            Oregon          OR    97001    97920\n",
       "38      Pennsylvania          PA    15001    19640\n",
       "39       Puerto Rico          PR      600      999\n",
       "40      Rhode Island          RI     2801     2940\n",
       "41    South Carolina          SC    29001    29948\n",
       "42      South Dakota          SD    57001    57799\n",
       "43         Tennessee          TN    37010    38589\n",
       "44             Texas          TX    75001    88589\n",
       "45              Utah          UT    84001    84784\n",
       "46          Virginia          VA    20040    24658\n",
       "47           Vermont          VT     5001     5907\n",
       "48        Washington          WA    98001    99403\n",
       "49         Wisconsin          WI    53001    54990\n",
       "50     West Virginia          WV    24701    26886\n",
       "51           Wyoming          WY    82001    83128"
      ]
     },
     "execution_count": 96,
     "metadata": {},
     "output_type": "execute_result"
    }
   ],
   "source": [
    "zipfile= pd.read_excel('zipcode range.xlsx')\n",
    "zipfile"
   ]
  },
  {
   "cell_type": "code",
   "execution_count": 97,
   "metadata": {
    "ExecuteTime": {
     "end_time": "2021-04-29T13:55:37.217762Z",
     "start_time": "2021-04-29T13:55:37.212621Z"
    }
   },
   "outputs": [
    {
     "data": {
      "text/plain": [
       "52714"
      ]
     },
     "execution_count": 97,
     "metadata": {},
     "output_type": "execute_result"
    }
   ],
   "source": [
    "outlier_index = np.where(df['Amount']==df['Amount'].max())[0][0]\n",
    "outlier_index"
   ]
  },
  {
   "cell_type": "code",
   "execution_count": 98,
   "metadata": {
    "ExecuteTime": {
     "end_time": "2021-04-29T13:55:37.232505Z",
     "start_time": "2021-04-29T13:55:37.219450Z"
    }
   },
   "outputs": [],
   "source": [
    "df=df.drop(df.index[52714])"
   ]
  },
  {
   "cell_type": "code",
   "execution_count": 99,
   "metadata": {
    "ExecuteTime": {
     "end_time": "2021-04-29T13:55:37.238785Z",
     "start_time": "2021-04-29T13:55:37.234506Z"
    }
   },
   "outputs": [
    {
     "data": {
      "text/plain": [
       "4655"
      ]
     },
     "execution_count": 99,
     "metadata": {},
     "output_type": "execute_result"
    }
   ],
   "source": [
    "df['Merch zip'].isnull().sum()"
   ]
  },
  {
   "cell_type": "code",
   "execution_count": 100,
   "metadata": {
    "ExecuteTime": {
     "end_time": "2021-04-29T13:55:37.309369Z",
     "start_time": "2021-04-29T13:55:37.241564Z"
    }
   },
   "outputs": [
    {
     "data": {
      "text/html": [
       "<div>\n",
       "<style scoped>\n",
       "    .dataframe tbody tr th:only-of-type {\n",
       "        vertical-align: middle;\n",
       "    }\n",
       "\n",
       "    .dataframe tbody tr th {\n",
       "        vertical-align: top;\n",
       "    }\n",
       "\n",
       "    .dataframe thead th {\n",
       "        text-align: right;\n",
       "    }\n",
       "</style>\n",
       "<table border=\"1\" class=\"dataframe\">\n",
       "  <thead>\n",
       "    <tr style=\"text-align: right;\">\n",
       "      <th></th>\n",
       "      <th>Recnum</th>\n",
       "      <th>Cardnum</th>\n",
       "      <th>Date</th>\n",
       "      <th>Merchnum</th>\n",
       "      <th>Merch description</th>\n",
       "      <th>Merch state</th>\n",
       "      <th>Merch zip</th>\n",
       "      <th>Transtype</th>\n",
       "      <th>Amount</th>\n",
       "      <th>Fraud</th>\n",
       "      <th>State Name</th>\n",
       "      <th>Zip_min</th>\n",
       "      <th>Zip_max</th>\n",
       "    </tr>\n",
       "  </thead>\n",
       "  <tbody>\n",
       "    <tr>\n",
       "      <th>0</th>\n",
       "      <td>1</td>\n",
       "      <td>5142190439</td>\n",
       "      <td>2010-01-01</td>\n",
       "      <td>5509006296254</td>\n",
       "      <td>FEDEX SHP 12/23/09 AB#</td>\n",
       "      <td>TN</td>\n",
       "      <td>38118.0</td>\n",
       "      <td>P</td>\n",
       "      <td>3.62</td>\n",
       "      <td>0</td>\n",
       "      <td>Tennessee</td>\n",
       "      <td>37010.0</td>\n",
       "      <td>38589.0</td>\n",
       "    </tr>\n",
       "    <tr>\n",
       "      <th>1</th>\n",
       "      <td>2</td>\n",
       "      <td>5142183973</td>\n",
       "      <td>2010-01-01</td>\n",
       "      <td>61003026333</td>\n",
       "      <td>SERVICE MERCHANDISE #81</td>\n",
       "      <td>MA</td>\n",
       "      <td>1803.0</td>\n",
       "      <td>P</td>\n",
       "      <td>31.42</td>\n",
       "      <td>0</td>\n",
       "      <td>Massachusetts</td>\n",
       "      <td>1001.0</td>\n",
       "      <td>2791.0</td>\n",
       "    </tr>\n",
       "    <tr>\n",
       "      <th>2</th>\n",
       "      <td>3</td>\n",
       "      <td>5142131721</td>\n",
       "      <td>2010-01-01</td>\n",
       "      <td>4503082993600</td>\n",
       "      <td>OFFICE DEPOT #191</td>\n",
       "      <td>MD</td>\n",
       "      <td>20706.0</td>\n",
       "      <td>P</td>\n",
       "      <td>178.49</td>\n",
       "      <td>0</td>\n",
       "      <td>Maryland</td>\n",
       "      <td>20331.0</td>\n",
       "      <td>21930.0</td>\n",
       "    </tr>\n",
       "    <tr>\n",
       "      <th>3</th>\n",
       "      <td>4</td>\n",
       "      <td>5142148452</td>\n",
       "      <td>2010-01-01</td>\n",
       "      <td>5509006296254</td>\n",
       "      <td>FEDEX SHP 12/28/09 AB#</td>\n",
       "      <td>TN</td>\n",
       "      <td>38118.0</td>\n",
       "      <td>P</td>\n",
       "      <td>3.62</td>\n",
       "      <td>0</td>\n",
       "      <td>Tennessee</td>\n",
       "      <td>37010.0</td>\n",
       "      <td>38589.0</td>\n",
       "    </tr>\n",
       "    <tr>\n",
       "      <th>4</th>\n",
       "      <td>5</td>\n",
       "      <td>5142190439</td>\n",
       "      <td>2010-01-01</td>\n",
       "      <td>5509006296254</td>\n",
       "      <td>FEDEX SHP 12/23/09 AB#</td>\n",
       "      <td>TN</td>\n",
       "      <td>38118.0</td>\n",
       "      <td>P</td>\n",
       "      <td>3.62</td>\n",
       "      <td>0</td>\n",
       "      <td>Tennessee</td>\n",
       "      <td>37010.0</td>\n",
       "      <td>38589.0</td>\n",
       "    </tr>\n",
       "    <tr>\n",
       "      <th>...</th>\n",
       "      <td>...</td>\n",
       "      <td>...</td>\n",
       "      <td>...</td>\n",
       "      <td>...</td>\n",
       "      <td>...</td>\n",
       "      <td>...</td>\n",
       "      <td>...</td>\n",
       "      <td>...</td>\n",
       "      <td>...</td>\n",
       "      <td>...</td>\n",
       "      <td>...</td>\n",
       "      <td>...</td>\n",
       "      <td>...</td>\n",
       "    </tr>\n",
       "    <tr>\n",
       "      <th>96747</th>\n",
       "      <td>96749</td>\n",
       "      <td>5142276053</td>\n",
       "      <td>2010-12-31</td>\n",
       "      <td>3500000006160</td>\n",
       "      <td>BEST BUY      00001610</td>\n",
       "      <td>KY</td>\n",
       "      <td>41042.0</td>\n",
       "      <td>P</td>\n",
       "      <td>84.79</td>\n",
       "      <td>0</td>\n",
       "      <td>Kentucky</td>\n",
       "      <td>40003.0</td>\n",
       "      <td>42788.0</td>\n",
       "    </tr>\n",
       "    <tr>\n",
       "      <th>96748</th>\n",
       "      <td>96750</td>\n",
       "      <td>5142225701</td>\n",
       "      <td>2010-12-31</td>\n",
       "      <td>8090710030950</td>\n",
       "      <td>MARKUS OFFICE SUPPLIES</td>\n",
       "      <td>OH</td>\n",
       "      <td>45248.0</td>\n",
       "      <td>P</td>\n",
       "      <td>118.75</td>\n",
       "      <td>0</td>\n",
       "      <td>Ohio</td>\n",
       "      <td>43001.0</td>\n",
       "      <td>45999.0</td>\n",
       "    </tr>\n",
       "    <tr>\n",
       "      <th>96749</th>\n",
       "      <td>96751</td>\n",
       "      <td>5142226486</td>\n",
       "      <td>2010-12-31</td>\n",
       "      <td>4503057341100</td>\n",
       "      <td>TECH PAC, INC</td>\n",
       "      <td>OH</td>\n",
       "      <td>45150.0</td>\n",
       "      <td>P</td>\n",
       "      <td>363.56</td>\n",
       "      <td>0</td>\n",
       "      <td>Ohio</td>\n",
       "      <td>43001.0</td>\n",
       "      <td>45999.0</td>\n",
       "    </tr>\n",
       "    <tr>\n",
       "      <th>96750</th>\n",
       "      <td>96752</td>\n",
       "      <td>5142244619</td>\n",
       "      <td>2010-12-31</td>\n",
       "      <td>8834000695412</td>\n",
       "      <td>BUY.COM</td>\n",
       "      <td>CA</td>\n",
       "      <td>92656.0</td>\n",
       "      <td>P</td>\n",
       "      <td>2202.03</td>\n",
       "      <td>0</td>\n",
       "      <td>California</td>\n",
       "      <td>90001.0</td>\n",
       "      <td>96162.0</td>\n",
       "    </tr>\n",
       "    <tr>\n",
       "      <th>96751</th>\n",
       "      <td>96753</td>\n",
       "      <td>5142243247</td>\n",
       "      <td>2010-12-31</td>\n",
       "      <td>9108347680006</td>\n",
       "      <td>STAPLES NATIONAL #471</td>\n",
       "      <td>NJ</td>\n",
       "      <td>7606.0</td>\n",
       "      <td>P</td>\n",
       "      <td>554.64</td>\n",
       "      <td>0</td>\n",
       "      <td>New Jersey</td>\n",
       "      <td>7001.0</td>\n",
       "      <td>8989.0</td>\n",
       "    </tr>\n",
       "  </tbody>\n",
       "</table>\n",
       "<p>96752 rows × 13 columns</p>\n",
       "</div>"
      ],
      "text/plain": [
       "       Recnum     Cardnum       Date       Merchnum        Merch description  \\\n",
       "0           1  5142190439 2010-01-01  5509006296254   FEDEX SHP 12/23/09 AB#   \n",
       "1           2  5142183973 2010-01-01    61003026333  SERVICE MERCHANDISE #81   \n",
       "2           3  5142131721 2010-01-01  4503082993600        OFFICE DEPOT #191   \n",
       "3           4  5142148452 2010-01-01  5509006296254   FEDEX SHP 12/28/09 AB#   \n",
       "4           5  5142190439 2010-01-01  5509006296254   FEDEX SHP 12/23/09 AB#   \n",
       "...       ...         ...        ...            ...                      ...   \n",
       "96747   96749  5142276053 2010-12-31  3500000006160   BEST BUY      00001610   \n",
       "96748   96750  5142225701 2010-12-31  8090710030950   MARKUS OFFICE SUPPLIES   \n",
       "96749   96751  5142226486 2010-12-31  4503057341100            TECH PAC, INC   \n",
       "96750   96752  5142244619 2010-12-31  8834000695412                  BUY.COM   \n",
       "96751   96753  5142243247 2010-12-31  9108347680006    STAPLES NATIONAL #471   \n",
       "\n",
       "      Merch state  Merch zip Transtype   Amount  Fraud     State Name  \\\n",
       "0              TN    38118.0         P     3.62      0      Tennessee   \n",
       "1              MA     1803.0         P    31.42      0  Massachusetts   \n",
       "2              MD    20706.0         P   178.49      0       Maryland   \n",
       "3              TN    38118.0         P     3.62      0      Tennessee   \n",
       "4              TN    38118.0         P     3.62      0      Tennessee   \n",
       "...           ...        ...       ...      ...    ...            ...   \n",
       "96747          KY    41042.0         P    84.79      0       Kentucky   \n",
       "96748          OH    45248.0         P   118.75      0           Ohio   \n",
       "96749          OH    45150.0         P   363.56      0           Ohio   \n",
       "96750          CA    92656.0         P  2202.03      0     California   \n",
       "96751          NJ     7606.0         P   554.64      0     New Jersey   \n",
       "\n",
       "       Zip_min  Zip_max  \n",
       "0      37010.0  38589.0  \n",
       "1       1001.0   2791.0  \n",
       "2      20331.0  21930.0  \n",
       "3      37010.0  38589.0  \n",
       "4      37010.0  38589.0  \n",
       "...        ...      ...  \n",
       "96747  40003.0  42788.0  \n",
       "96748  43001.0  45999.0  \n",
       "96749  43001.0  45999.0  \n",
       "96750  90001.0  96162.0  \n",
       "96751   7001.0   8989.0  \n",
       "\n",
       "[96752 rows x 13 columns]"
      ]
     },
     "execution_count": 100,
     "metadata": {},
     "output_type": "execute_result"
    }
   ],
   "source": [
    "df = df.merge(zipfile, on = ['Merch state'], how='left')\n",
    "df"
   ]
  },
  {
   "cell_type": "code",
   "execution_count": 717,
   "metadata": {
    "ExecuteTime": {
     "end_time": "2021-04-29T13:55:37.315299Z",
     "start_time": "2021-04-29T13:55:37.313015Z"
    }
   },
   "outputs": [],
   "source": [
    "#final=final.loc[final['Transtype']=='P']"
   ]
  },
  {
   "cell_type": "code",
   "execution_count": 718,
   "metadata": {
    "ExecuteTime": {
     "end_time": "2021-04-29T13:55:37.319765Z",
     "start_time": "2021-04-29T13:55:37.317444Z"
    }
   },
   "outputs": [],
   "source": [
    "#comparedf=df[(df['Merch zip']>=df['Zip_min'])&(df['Merch zip']<=df['Zip_max'])]\n",
    "#comparedf.to_csv('comparedf.csv')"
   ]
  },
  {
   "cell_type": "code",
   "execution_count": 101,
   "metadata": {
    "ExecuteTime": {
     "end_time": "2021-04-29T13:55:37.357122Z",
     "start_time": "2021-04-29T13:55:37.322467Z"
    }
   },
   "outputs": [
    {
     "data": {
      "text/html": [
       "<div>\n",
       "<style scoped>\n",
       "    .dataframe tbody tr th:only-of-type {\n",
       "        vertical-align: middle;\n",
       "    }\n",
       "\n",
       "    .dataframe tbody tr th {\n",
       "        vertical-align: top;\n",
       "    }\n",
       "\n",
       "    .dataframe thead th {\n",
       "        text-align: right;\n",
       "    }\n",
       "</style>\n",
       "<table border=\"1\" class=\"dataframe\">\n",
       "  <thead>\n",
       "    <tr style=\"text-align: right;\">\n",
       "      <th></th>\n",
       "      <th>Recnum</th>\n",
       "      <th>Cardnum</th>\n",
       "      <th>Date</th>\n",
       "      <th>Merchnum</th>\n",
       "      <th>Merch description</th>\n",
       "      <th>Merch state</th>\n",
       "      <th>Merch zip</th>\n",
       "      <th>Transtype</th>\n",
       "      <th>Amount</th>\n",
       "      <th>Fraud</th>\n",
       "      <th>State Name</th>\n",
       "      <th>Zip_min</th>\n",
       "      <th>Zip_max</th>\n",
       "    </tr>\n",
       "  </thead>\n",
       "  <tbody>\n",
       "    <tr>\n",
       "      <th>229</th>\n",
       "      <td>230</td>\n",
       "      <td>5142132941</td>\n",
       "      <td>2010-01-03</td>\n",
       "      <td>9104096250000</td>\n",
       "      <td>STAPLES #218</td>\n",
       "      <td>WA</td>\n",
       "      <td>20005.0</td>\n",
       "      <td>P</td>\n",
       "      <td>301.80</td>\n",
       "      <td>0</td>\n",
       "      <td>Washington</td>\n",
       "      <td>98001.0</td>\n",
       "      <td>99403.0</td>\n",
       "    </tr>\n",
       "    <tr>\n",
       "      <th>247</th>\n",
       "      <td>248</td>\n",
       "      <td>5142124762</td>\n",
       "      <td>2010-01-04</td>\n",
       "      <td>9104096250000</td>\n",
       "      <td>STAPLES #218</td>\n",
       "      <td>WA</td>\n",
       "      <td>20005.0</td>\n",
       "      <td>P</td>\n",
       "      <td>62.95</td>\n",
       "      <td>0</td>\n",
       "      <td>Washington</td>\n",
       "      <td>98001.0</td>\n",
       "      <td>99403.0</td>\n",
       "    </tr>\n",
       "    <tr>\n",
       "      <th>307</th>\n",
       "      <td>308</td>\n",
       "      <td>5142226204</td>\n",
       "      <td>2010-01-04</td>\n",
       "      <td>4620000731201</td>\n",
       "      <td>PORTERS CAMERA STORE</td>\n",
       "      <td>IA</td>\n",
       "      <td>5.0</td>\n",
       "      <td>P</td>\n",
       "      <td>104.16</td>\n",
       "      <td>0</td>\n",
       "      <td>Iowa</td>\n",
       "      <td>50001.0</td>\n",
       "      <td>52809.0</td>\n",
       "    </tr>\n",
       "    <tr>\n",
       "      <th>382</th>\n",
       "      <td>383</td>\n",
       "      <td>5142253356</td>\n",
       "      <td>2010-01-04</td>\n",
       "      <td>8889817332</td>\n",
       "      <td>AT&amp;T WORLDNET SERVICES</td>\n",
       "      <td>FL</td>\n",
       "      <td>7054.0</td>\n",
       "      <td>P</td>\n",
       "      <td>19.95</td>\n",
       "      <td>0</td>\n",
       "      <td>Florida</td>\n",
       "      <td>32004.0</td>\n",
       "      <td>34997.0</td>\n",
       "    </tr>\n",
       "    <tr>\n",
       "      <th>419</th>\n",
       "      <td>420</td>\n",
       "      <td>5142144790</td>\n",
       "      <td>2010-01-04</td>\n",
       "      <td>9104096250000</td>\n",
       "      <td>STAPLES #218</td>\n",
       "      <td>WA</td>\n",
       "      <td>20005.0</td>\n",
       "      <td>P</td>\n",
       "      <td>30.32</td>\n",
       "      <td>0</td>\n",
       "      <td>Washington</td>\n",
       "      <td>98001.0</td>\n",
       "      <td>99403.0</td>\n",
       "    </tr>\n",
       "    <tr>\n",
       "      <th>...</th>\n",
       "      <td>...</td>\n",
       "      <td>...</td>\n",
       "      <td>...</td>\n",
       "      <td>...</td>\n",
       "      <td>...</td>\n",
       "      <td>...</td>\n",
       "      <td>...</td>\n",
       "      <td>...</td>\n",
       "      <td>...</td>\n",
       "      <td>...</td>\n",
       "      <td>...</td>\n",
       "      <td>...</td>\n",
       "      <td>...</td>\n",
       "    </tr>\n",
       "    <tr>\n",
       "      <th>96422</th>\n",
       "      <td>96424</td>\n",
       "      <td>5142258334</td>\n",
       "      <td>2010-12-29</td>\n",
       "      <td>6070042550005</td>\n",
       "      <td>HOME DEPOT #129</td>\n",
       "      <td>GA</td>\n",
       "      <td>3060.0</td>\n",
       "      <td>P</td>\n",
       "      <td>163.14</td>\n",
       "      <td>0</td>\n",
       "      <td>Georgia</td>\n",
       "      <td>30001.0</td>\n",
       "      <td>31999.0</td>\n",
       "    </tr>\n",
       "    <tr>\n",
       "      <th>96522</th>\n",
       "      <td>96524</td>\n",
       "      <td>5142180447</td>\n",
       "      <td>2010-12-30</td>\n",
       "      <td>6887894784113</td>\n",
       "      <td>RANGEL DISTRIBUTING CO</td>\n",
       "      <td>KS</td>\n",
       "      <td>64101.0</td>\n",
       "      <td>P</td>\n",
       "      <td>47.04</td>\n",
       "      <td>0</td>\n",
       "      <td>Kansas</td>\n",
       "      <td>66002.0</td>\n",
       "      <td>67954.0</td>\n",
       "    </tr>\n",
       "    <tr>\n",
       "      <th>96551</th>\n",
       "      <td>96553</td>\n",
       "      <td>5142179846</td>\n",
       "      <td>2010-12-30</td>\n",
       "      <td>6887894784113</td>\n",
       "      <td>RANGEL DISTRIBUTING CO</td>\n",
       "      <td>KS</td>\n",
       "      <td>64101.0</td>\n",
       "      <td>P</td>\n",
       "      <td>84.00</td>\n",
       "      <td>0</td>\n",
       "      <td>Kansas</td>\n",
       "      <td>66002.0</td>\n",
       "      <td>67954.0</td>\n",
       "    </tr>\n",
       "    <tr>\n",
       "      <th>96683</th>\n",
       "      <td>96685</td>\n",
       "      <td>5142180447</td>\n",
       "      <td>2010-12-30</td>\n",
       "      <td>6887894784113</td>\n",
       "      <td>RANGEL DISTRIBUTING CO</td>\n",
       "      <td>KS</td>\n",
       "      <td>64101.0</td>\n",
       "      <td>P</td>\n",
       "      <td>28.82</td>\n",
       "      <td>0</td>\n",
       "      <td>Kansas</td>\n",
       "      <td>66002.0</td>\n",
       "      <td>67954.0</td>\n",
       "    </tr>\n",
       "    <tr>\n",
       "      <th>96702</th>\n",
       "      <td>96704</td>\n",
       "      <td>5142239684</td>\n",
       "      <td>2010-12-31</td>\n",
       "      <td>4063000739258</td>\n",
       "      <td>PC *PC CONNECTION</td>\n",
       "      <td>NH</td>\n",
       "      <td>97213.0</td>\n",
       "      <td>P</td>\n",
       "      <td>2246.57</td>\n",
       "      <td>0</td>\n",
       "      <td>New Hampshire</td>\n",
       "      <td>3031.0</td>\n",
       "      <td>3897.0</td>\n",
       "    </tr>\n",
       "  </tbody>\n",
       "</table>\n",
       "<p>1407 rows × 13 columns</p>\n",
       "</div>"
      ],
      "text/plain": [
       "       Recnum     Cardnum       Date       Merchnum       Merch description  \\\n",
       "229       230  5142132941 2010-01-03  9104096250000            STAPLES #218   \n",
       "247       248  5142124762 2010-01-04  9104096250000            STAPLES #218   \n",
       "307       308  5142226204 2010-01-04  4620000731201    PORTERS CAMERA STORE   \n",
       "382       383  5142253356 2010-01-04     8889817332  AT&T WORLDNET SERVICES   \n",
       "419       420  5142144790 2010-01-04  9104096250000            STAPLES #218   \n",
       "...       ...         ...        ...            ...                     ...   \n",
       "96422   96424  5142258334 2010-12-29  6070042550005         HOME DEPOT #129   \n",
       "96522   96524  5142180447 2010-12-30  6887894784113  RANGEL DISTRIBUTING CO   \n",
       "96551   96553  5142179846 2010-12-30  6887894784113  RANGEL DISTRIBUTING CO   \n",
       "96683   96685  5142180447 2010-12-30  6887894784113  RANGEL DISTRIBUTING CO   \n",
       "96702   96704  5142239684 2010-12-31  4063000739258       PC *PC CONNECTION   \n",
       "\n",
       "      Merch state  Merch zip Transtype   Amount  Fraud     State Name  \\\n",
       "229            WA    20005.0         P   301.80      0     Washington   \n",
       "247            WA    20005.0         P    62.95      0     Washington   \n",
       "307            IA        5.0         P   104.16      0           Iowa   \n",
       "382            FL     7054.0         P    19.95      0        Florida   \n",
       "419            WA    20005.0         P    30.32      0     Washington   \n",
       "...           ...        ...       ...      ...    ...            ...   \n",
       "96422          GA     3060.0         P   163.14      0        Georgia   \n",
       "96522          KS    64101.0         P    47.04      0         Kansas   \n",
       "96551          KS    64101.0         P    84.00      0         Kansas   \n",
       "96683          KS    64101.0         P    28.82      0         Kansas   \n",
       "96702          NH    97213.0         P  2246.57      0  New Hampshire   \n",
       "\n",
       "       Zip_min  Zip_max  \n",
       "229    98001.0  99403.0  \n",
       "247    98001.0  99403.0  \n",
       "307    50001.0  52809.0  \n",
       "382    32004.0  34997.0  \n",
       "419    98001.0  99403.0  \n",
       "...        ...      ...  \n",
       "96422  30001.0  31999.0  \n",
       "96522  66002.0  67954.0  \n",
       "96551  66002.0  67954.0  \n",
       "96683  66002.0  67954.0  \n",
       "96702   3031.0   3897.0  \n",
       "\n",
       "[1407 rows x 13 columns]"
      ]
     },
     "execution_count": 101,
     "metadata": {},
     "output_type": "execute_result"
    }
   ],
   "source": [
    "df_wrong=df[(df['Merch zip']<df['Zip_min'])|(df['Merch zip']>df['Zip_max'])]\n",
    "df_wrong"
   ]
  },
  {
   "cell_type": "code",
   "execution_count": 102,
   "metadata": {
    "ExecuteTime": {
     "end_time": "2021-04-29T13:55:37.382299Z",
     "start_time": "2021-04-29T13:55:37.358436Z"
    }
   },
   "outputs": [
    {
     "data": {
      "text/plain": [
       "[('A J ABRAMS CO INC', 'NJ', 6880.0),\n",
       " ('ABS GRP INC/GOVT INST DIV', 'MD', 2.0),\n",
       " ('ACD SYSTEMS', 'CA', 11111.0),\n",
       " ('ADVANCE AUTO PARTS #5125', 'MO', 66112.0),\n",
       " ('ADVANCED CHEM DEVELOPMEN', 'CA', 11111.0),\n",
       " ('ADVANCED LOCK & SAFE INC', 'GA', 20151.0),\n",
       " ('AGENT FEE   8908111473613', 'PA', 2.0),\n",
       " ('AGENT FEE   8908111473613', 'PA', 22209.0),\n",
       " ('AGENT FEE   8908117237329', 'TX', 22209.0),\n",
       " ('AGILENT', 'GA', 3.0),\n",
       " ('AIR & WASTE MGMT ASSOC', 'PA', 1.0),\n",
       " ('ALL IN ONE SUPPLY', 'CO', 90712.0),\n",
       " ('AMAC KC PUBS', 'KS', 12983.0),\n",
       " ('AMAZON.COM  *SUPERSTOR', 'WA', 9.0),\n",
       " ('AMERICAN CHEMICAL SCTY', 'DC', 2.0),\n",
       " ('AMERICAN SPEAKER', 'DC', 21742.0),\n",
       " ('AOAC INTERNATIONAL', 'MD', 2.0),\n",
       " ('AOL*ONLINE SERVICE 0200', 'VA', 2.0),\n",
       " ('APPLIED IND TECH   744', 'OH', 48108.0),\n",
       " ('APPLIED IND TECH  0239', 'OH', 27703.0),\n",
       " ('APPLIED MEMBRANES INC', 'OH', 92069.0),\n",
       " ('ARIZONA INSTRUMENTS', 'AZ', 95040.0),\n",
       " ('AT AND T CHERRY HILL', 'NJ', 80020.0),\n",
       " ('AT AND T WHEELING', 'WV', 15222.0),\n",
       " ('AT YOUR OFFICE', 'VA', 20004.0),\n",
       " ('AT&T WORLDNET SERVICES', 'FL', 7054.0),\n",
       " ('AT&T WS#1210210', 'CA', 98033.0),\n",
       " ('AT&T WS#53517942', 'CA', 98033.0),\n",
       " ('BATTERIES PLUS', 'MO', 68119.0),\n",
       " ('BATTERIES PLUS #080', 'OH', 80123.0),\n",
       " ('BELLSOUTH MOBILITY DCS', 'NC', 30328.0),\n",
       " ('BGI-BUDGET-PREMIER-RYDER', 'DC', 21061.0),\n",
       " ('BIGELOW LABORATORY', 'NY', 4575.0),\n",
       " ('BIO-RAD LABORATORIES INC.', 'CA', 9.0),\n",
       " ('BIOLOGIX TECHNOLOGIES', 'WI', 56715.0),\n",
       " ('BLOWHITTAKER MOLECULAR', 'PA', 4841.0),\n",
       " (\"BOCA INT'L INC\", 'IL', 478.0),\n",
       " ('BURLINGTON AIR EXPRESS', 'CA', 9.0),\n",
       " ('BUY.COM', 'CA', 9.0),\n",
       " ('CAHNERS BUSINESS INFOR-', 'MA', 8077.0),\n",
       " ('CANDLE COMMUNICATION', 'UT', 89119.0),\n",
       " ('CC *PC MALL', 'CA', 9.0),\n",
       " ('CHEMPLEX INDUSTRIES IN', 'FL', 10707.0),\n",
       " ('COMPUTER ASSOCIATES', 'NJ', 11788.0),\n",
       " ('CONCENTRA MED CTR-DEN AD', 'CO', 90330.0),\n",
       " ('CONTROL DATA CIS INTERNET', 'CA', 55126.0),\n",
       " ('CONTROLS & METERS', 'MN', 68106.0),\n",
       " ('COP*COPLEY NEWSPAPERS', 'IL', 92073.0),\n",
       " ('CRUACHEM INC', 'PA', 20166.0),\n",
       " ('DAY WIRELESS SYSTEMS', 'OR', 98032.0),\n",
       " ('DOUBLETREE HOTELS NATL AP', 'VA', 98188.0),\n",
       " ('DT SOFTWARE INC DT SERCH', 'MD', 22202.0),\n",
       " ('EARTH FORCE INC', 'VA', 68106.0),\n",
       " ('ELEMENT K PRESS JOURNALS', 'NY', 1.0),\n",
       " ('ELEMENT K PRESS STORE.COM', 'NY', 1.0),\n",
       " ('ENET HOLDING INC', 'NJ', 22151.0),\n",
       " ('EQUIFAX INFO SERVIC', 'GA', 3.0),\n",
       " ('EW *EYEWIRE INC CATALG', 'TX', 53224.0),\n",
       " ('EW *EYEWIRE INC WEB', 'TX', 53224.0),\n",
       " ('FCN/CRC/LEWIS/SLP', 'DC', 33431.0),\n",
       " ('FEDERAL EXECUTIVE BOAR', 'KS', 64131.0),\n",
       " ('FISHER SCI ATL', 'GA', 3.0),\n",
       " ('FLORIDA PLANTS ONLINE', 'FL', 68106.0),\n",
       " ('FOTODYNE INC', 'WI', 83259.0),\n",
       " ('FRANKLIN COVEY #7090', 'CA', 30136.0),\n",
       " ('FRANKLIN COVEY COMPANY', 'UT', 8.0),\n",
       " ('FREEMAN DECORATING', 'DC', 22304.0),\n",
       " ('FREEMAN DECORATING', 'NY', 7032.0),\n",
       " ('GENERAL SERVICES ADMIN', 'MD', 64131.0),\n",
       " ('GES/CHICAGO-71', 'IL', 32819.0),\n",
       " ('GLOBAL COMPUTER SUPPLY', 'IL', 6.0),\n",
       " ('GRADUATE SCHOOL USDA', 'PA', 75242.0),\n",
       " ('GRADUATE SCHOOL USDA', 'TX', 19107.0),\n",
       " ('GRANTHAM COLLEGE OF', 'LA', 11747.0),\n",
       " ('GTE WIRELESS', 'GA', 37211.0),\n",
       " ('GUESS RETAIL STORE #505', 'FL', 3.0),\n",
       " ('GULF SOUTH MEDICAL SUPPLY', 'FL', 39157.0),\n",
       " ('HAWTHORN SUITES, LTD', 'AK', 12.0),\n",
       " ('HILL MANUFACTURING CO INC', 'GA', 3.0),\n",
       " ('HOLIDAY INNS HTL & ST HS', 'VA', 2.0),\n",
       " ('HOME DEPOT #129', 'GA', 3060.0),\n",
       " ('IBILL  *www.ibillCS.com', 'FL', 3.0),\n",
       " ('ICON HEALTH & FITNESS', 'UT', 23451.0),\n",
       " ('IMS OF KANSAS CITY INC', 'MO', 66214.0),\n",
       " ('ISSX', 'MD', 20014.0),\n",
       " ('JB COMPUTER CONSULTING', 'CT', 66110.0),\n",
       " ('JERRY CROUSES TIRE/AUTO', 'CO', 8.0),\n",
       " ('KEYSAN CATALOG', 'PA', 33308.0),\n",
       " (\"KINKO'S, INC #418\", 'MO', 66105.0),\n",
       " (\"KINKO'S,INC #671\", 'DC', 93002.0),\n",
       " ('KROGER #374        SL9', 'OH', 25231.0),\n",
       " ('KRUG FURNITURE INC', 'CA', 99999.0),\n",
       " ('LEHIGH SAFETY SHOE CO', 'OH', 60638.0),\n",
       " ('LIGHT IMPRESSIONS', 'CA', 98281.0),\n",
       " ('LINCOLN COUNTY JOURNAL', 'MI', 63379.0),\n",
       " ('MADISON COMPANY', 'CT', 68106.0),\n",
       " ('MAINE BIOTECHNOLOGY SVCS.', 'OR', 4103.0),\n",
       " ('MALLINCKRODT-BAKER INC', 'MO', 8865.0),\n",
       " ('MARYLAND COMPUTER SYS', 'MD', 29004.0),\n",
       " ('MATRIX TECHNOLOGIES CORP', 'MA', 3051.0),\n",
       " ('MICHAELS STORES, INC. #87', 'RI', 2686.0),\n",
       " ('MICRO CENTER #191 RETAIL', 'KS', 11590.0),\n",
       " ('MID STATE CAMERA SERVICE', 'IL', 30305.0),\n",
       " ('MIDWAY AIR  8781597326876', 'NC', 55402.0),\n",
       " ('MITTLER SUPPLY INC', 'IN', 60415.0),\n",
       " ('MONSTER.COM #15', 'MA', 10019.0),\n",
       " ('MUTUAL SAFE COMPANY INC', 'CA', 65802.0),\n",
       " ('NAT ACCTS #951', 'GA', 3.0),\n",
       " ('NAT* GEOGRAPHIC MAG', 'MD', 20036.0),\n",
       " ('NCT HEARING PRODUCTS', 'CT', 21090.0),\n",
       " ('NELLCOR PURITAN BENNETT', 'MO', 94588.0),\n",
       " ('NITON CORPORATION', 'NH', 1730.0),\n",
       " ('NMSU-STUDENT ACCOUNTS', 'NM', 80033.0),\n",
       " ('NORTH CAROLINA STATE', 'NC', 11542.0),\n",
       " ('NOVA RESEARCH COMPANY', 'MD', 2.0),\n",
       " ('O O O CHECKMATE', 'CA', 80535.0),\n",
       " ('OFFICE DEPOT #1082', 'MD', 2.0),\n",
       " ('OFFICE DEPOT #1090', 'MA', 55441.0),\n",
       " ('OFFICE DEPOT #360', 'GA', 3278.0),\n",
       " ('OFFICE DEPOT #420', 'CO', 39211.0),\n",
       " ('OFFICE DEPOT #452', 'GA', 19382.0),\n",
       " ('OFFICE DEPOT #629', 'MS', 38071.0),\n",
       " ('OFFICE DEPOT #804', 'CA', 84107.0),\n",
       " ('OMNISTAR INC', 'LA', 77063.0),\n",
       " ('ONVIA.COM', 'WA', 9.0),\n",
       " ('PC *PC CONNECTION', 'NH', 9.0),\n",
       " ('PC *PC CONNECTION', 'NH', 97213.0),\n",
       " ('PGH INTL AIRPORT   Q3J', 'PA', 1.0),\n",
       " ('PH FILTRATION BOSTON', 'MA', 44124.0),\n",
       " ('PH MOTION  AND  CONTROL S', 'OH', 48083.0),\n",
       " ('PORTERS CAMERA STORE', 'IA', 5.0),\n",
       " ('PROFESS OFC ENTERPRISES', 'VA', 2.0),\n",
       " ('PUMA TECHNOLOGY SERVICES', 'CA', 68106.0),\n",
       " ('RADIO SHACK   00140731', 'CO', 8.0),\n",
       " ('RADIO SHACK   00186049', 'CO', 8.0),\n",
       " ('RANGEL DISTRIBUTING CO', 'KS', 64101.0),\n",
       " ('RED WING SHOE STORE 158', 'MN', 30606.0),\n",
       " ('RED WING SHOES 824', 'MN', 60402.0),\n",
       " ('RED WING SHOES 845', 'MN', 60515.0),\n",
       " ('RED WING SHOES 884', 'MN', 94015.0),\n",
       " ('RED WING SHOES 888', 'MN', 30083.0),\n",
       " ('RED WING SHOES 897', 'MN', 60194.0),\n",
       " ('RED WING SHOES 902', 'MN', 22150.0),\n",
       " ('REGNET', 'CO', 91321.0),\n",
       " ('REPROGRPHC TECHNLGIES INC', 'MD', 20005.0),\n",
       " ('RETAIL CREDIT ADJUSTMENT', 'CA', 9.0),\n",
       " ('RETAIL CREDIT ADJUSTMENT', 'GA', 3.0),\n",
       " ('RETAIL CREDIT ADJUSTMENT', 'TX', 7.0),\n",
       " ('RETAIL CREDIT ADJUSTMENT', 'VA', 2.0),\n",
       " ('RETAIL CREDIT ADJUSTMENT', 'VA', 6.0),\n",
       " ('RETAIL CREDIT ADJUSTMENT', 'VA', 7.0),\n",
       " ('RETAIL CREDIT ADJUSTMENT', 'VA', 9.0),\n",
       " ('RITZ CAMERA #528', 'OH', 60604.0),\n",
       " ('RITZ CAMERA CENTER #1021', 'WA', 20705.0),\n",
       " ('RIVIERA HOTEL AND CASINO', 'NV', 8.0),\n",
       " ('ROGUE WARE SFTWR SERV', 'CA', 68106.0),\n",
       " ('RSEWEB.COM 8774054986', 'CA', 9.0),\n",
       " ('S  *S S ARTS  CRAFT', 'CT', 34666.0),\n",
       " ('SAVIN CORP', 'GA', 7950.0),\n",
       " ('SHELL NO 27424732603', 'IL', 80120.0),\n",
       " ('SKILLPATH SEMINARS CANADA', 'KS', 62012.0),\n",
       " ('SLEEPING BEAR/AA PRESS', 'MI', 68106.0),\n",
       " ('SOFTCHOICE CORPORATION', 'CT', 10003.0),\n",
       " (\"SOFTWARE SHELF INT'L INC\", 'FL', 94063.0),\n",
       " ('SPRINT PCS #998', 'MO', 66211.0),\n",
       " ('SPRINT PCS #999', 'MO', 66211.0),\n",
       " ('STAPLES #218', 'WA', 20005.0),\n",
       " ('STAPLES #792', 'VA', 2202.0),\n",
       " ('STAPLES #941', 'PA', 1.0),\n",
       " ('STAPLES #98', 'VA', 17404.0),\n",
       " ('STRATAGENE CLONING SYS', 'TX', 92037.0),\n",
       " ('STRAYER COLLEGE', 'MD', 22204.0),\n",
       " ('STRAYER UNIVERSITY', 'MD', 22204.0),\n",
       " ('STUART C IRBY COMPANY 11', 'FL', 39215.0),\n",
       " ('STUART PROMOTIONAL PROD', 'PA', 34609.0),\n",
       " ('SUN AUTHORIZED SOFTWARE', 'CA', 68106.0),\n",
       " ('SUN MICROSYSTEMS, INC.', 'CA', 84303.0),\n",
       " ('SUPPLY ONE #6', 'OR', 80301.0),\n",
       " ('SYBASE IAD SUBSCRIPTION', 'CA', 68106.0),\n",
       " ('SYNERGY SOLUTIONS, INC', 'NY', 63108.0),\n",
       " ('TEKTRONIX MBD PARTS 09', 'IL', 97077.0),\n",
       " ('TERATOLOGY SOCIETY', 'CA', 20190.0),\n",
       " ('THE HOME DEPOT #129', 'GA', 3060.0),\n",
       " ('THE NATL ASSOC ENV PROFS', 'ME', 33853.0),\n",
       " ('THE SPORTS AUTHORITY #804', 'NC', 8648.0),\n",
       " ('THE WELLNESS NEWSLETTER', 'NY', 32034.0),\n",
       " ('TLC', 'ND', 20740.0),\n",
       " ('TLC              00 OF 00', 'ND', 20740.0),\n",
       " ('TROEMNER LLC', 'NJ', 19142.0),\n",
       " ('TTL AUDIO VISUAL SYTM INC', 'MO', 20910.0),\n",
       " ('UNITED AIR  0161590898501', 'CO', 60007.0),\n",
       " ('UPPER VALLEY LOCK DOCTOR', 'NH', 5001.0),\n",
       " ('US EXPRESS INC', 'MD', 20007.0),\n",
       " ('VICKERS INC TRAINING CTR', 'MN', 48309.0),\n",
       " ('WASHINGTON COURIER', 'MD', 20036.0),\n",
       " ('WASHINTON SERVICE BUREAU', 'WA', 10019.0),\n",
       " ('WESTWOOD ACCOUNTING', 'TX', 19111.0),\n",
       " ('WQT*D SNORE 1OF1', 'CA', 9.0),\n",
       " ('WirelessCall to 888271028', 'NV', 2109.0),\n",
       " ('ZDU.COM WEB PURCHASES', 'NY', 1.0)]"
      ]
     },
     "execution_count": 102,
     "metadata": {},
     "output_type": "execute_result"
    }
   ],
   "source": [
    "a=df_wrong.groupby(['Merch description','Merch state','Merch zip'])\n",
    "list(a.groups)\n"
   ]
  },
  {
   "cell_type": "code",
   "execution_count": 103,
   "metadata": {
    "ExecuteTime": {
     "end_time": "2021-04-29T13:55:37.388557Z",
     "start_time": "2021-04-29T13:55:37.384790Z"
    }
   },
   "outputs": [
    {
     "data": {
      "text/plain": [
       "200"
      ]
     },
     "execution_count": 103,
     "metadata": {},
     "output_type": "execute_result"
    }
   ],
   "source": [
    "# Unmatched groups\n",
    "len(a)"
   ]
  },
  {
   "cell_type": "code",
   "execution_count": 722,
   "metadata": {
    "ExecuteTime": {
     "end_time": "2021-04-29T13:55:37.392905Z",
     "start_time": "2021-04-29T13:55:37.390730Z"
    }
   },
   "outputs": [],
   "source": [
    "# If we can find the store at its zip we correct the state\n",
    "# if the zip code is close to its original state we correct the state\n",
    "# if in its original state s right and the new zip is similliar to its old one, we cooect the zip\n",
    "# if the company has only one address we correct the zip or state\n",
    "# If the zip only has one digit zip, and state is correct we correct the zip\n",
    "# if we are sure the zip is not correct,we fill the zip as unknown\n",
    "# If we cannot find this company and zip is obviously wrong we fill as unknown\n",
    "# If we cannot find the address, we correct the sates based on the zip\n",
    "# Some company shows the state in their company name then we know the zip is wrong  ex.florida plants\n",
    "# If the zip and state do not match and there is a store with the same zip we will correct state, since zip is harder to be typo\n",
    "# If there are correct zip and state in the correct dataset, we fill the same value\n",
    "# For some suspious fraud company we used the ip address location (ibillcs.com)\n",
    "# some companies have been shut down, hard to find info"
   ]
  },
  {
   "cell_type": "code",
   "execution_count": 104,
   "metadata": {
    "ExecuteTime": {
     "end_time": "2021-04-29T13:55:37.979998Z",
     "start_time": "2021-04-29T13:55:37.394865Z"
    }
   },
   "outputs": [],
   "source": [
    "df.loc[df['Merch description']=='A J ABRAMS CO INC',['Merch state']]='CT'\n",
    "df.loc[df['Merch description']=='A J ABRAMS CO INC',['Merch zip']]=6880\n",
    "\n",
    "df.loc[(df['Merch description']=='ABS GRP INC/GOVT INST DIV')&(df['Merch state']=='MD'),['Merch zip']]=20879\n",
    "\n",
    "df.loc[(df['Merch description']=='ACD SYSTEMS')&(df['Merch state']=='CA'),['Merch zip']]='unknown'\n",
    "\n",
    "df.loc[(df['Merch description']=='ADVANCE AUTO PARTS #5125')&(df['Merch zip']==11111),['Merch state']]='KS'\n",
    "\n",
    "# ? INVALID STATE\n",
    "df.loc[(df['Merch description']=='ADVANCED CHEM DEVELOPMEN')&(df['Merch state']=='MO'),['Merch zip']]='unknown'\n",
    "\n",
    "df.loc[(df['Merch description']=='ADVANCED LOCK & SAFE INC')&(df['Merch zip']==20151),['Merch state']]='VA'\n",
    "\n",
    "df.loc[df['Merch description']=='AGENT FEE   8908111473613',['Merch state']]='VA'\n",
    "df.loc[df['Merch description']=='AGENT FEE   8908117237329',['Merch state']]='VA'\n",
    "df.loc[df['Merch description']=='AGENT FEE   8908111473613',['Merch zip']]=22209\n",
    "df.loc[df['Merch description']=='AGENT FEE   8908117237329',['Merch zip']]=22209\n",
    "\n",
    "df.loc[(df['Merch description']=='AGILENT')&(df['Merch state']=='GA'),['Merch zip']]=30022\n",
    "\n",
    "df.loc[(df['Merch description']=='AIR & WASTE MGMT ASSOC')&(df['Merch state']=='PA'),['Merch zip']]=15222\n",
    "\n",
    "df.loc[(df['Merch description']=='ALL IN ONE SUPPLY')&(df['Merch zip']==90712),['Merch state']]='CA'\n",
    "\n",
    "df.loc[(df['Merch description']=='AMAC KC PUBS')&(df['Merch state']=='KS'),['Merch zip']]=66204\n",
    "\n",
    "df.loc[(df['Merch description']=='AMAZON.COM  *SUPERSTOR')&(df['Merch state']=='WA'),['Merch zip']]=98109\n",
    "\n",
    "df.loc[(df['Merch description']=='AMERICAN CHEMICAL SCTY')&(df['Merch state']=='DC'),['Merch zip']]=20036\n",
    "\n",
    "df.loc[(df['Merch description']=='AMERICAN SPEAKER')&(df['Merch zip']==21742),['Merch state']]='MD'\n",
    "\n",
    "df.loc[(df['Merch description']=='AOAC INTERNATIONAL')&(df['Merch state']=='MD'),['Merch zip']]=20877\n",
    "\n",
    "df.loc[(df['Merch description']=='AOL*ONLINE SERVICE 0200')&(df['Merch state']=='VA'),['Merch zip']]=20166\n",
    "\n",
    "df.loc[(df['Merch description']=='APPLIED IND TECH   744')&(df['Merch zip']==48108),['Merch state']]='MI'\n",
    "\n",
    "df.loc[(df['Merch description']=='APPLIED IND TECH  0239')&(df['Merch zip']==27703),['Merch state']]='NC'\n",
    "\n",
    "df.loc[(df['Merch description']=='APPLIED MEMBRANES INC')&(df['Merch zip']==92069),['Merch state']]='CA'\n",
    "\n",
    "df.iloc[64351,6]='unknown'\n",
    "\n",
    "df.loc[(df['Merch description']=='ARIZONA INSTRUMENTS')&(df['Merch state']=='AZ'),['Merch zip']]=85225\n",
    "\n",
    "df.loc[(df['Merch description']=='AT AND T CHERRY HILL')&(df['Merch state']=='NJ'),['Merch zip']]=8002\n",
    "\n",
    "df.loc[(df['Merch description']=='AT AND T WHEELING')&(df['Merch state']=='WV'),['Merch zip']]=26003\n",
    "\n",
    "df.loc[(df['Merch description']=='AT YOUR OFFICE')&(df['Merch zip']==20004),['Merch state']]='DC'\n",
    "df.loc[(df['Merch description']=='AT&T WORLDNET SERVICES')&(df['Merch zip']==7054),['Merch state']]='NJ'\n",
    "df.loc[(df['Merch description']=='AT&T WS#1210210')&(df['Merch zip']==98033),['Merch state']]='WA'\n",
    "df.loc[(df['Merch description']=='AT&T WS#53517942')&(df['Merch zip']==98033),['Merch state']]='WA'\n",
    "\n",
    "df.loc[(df['Merch description']=='BATTERIES PLUS #080')&(df['Merch zip']==80123),['Merch state']]='CO'\n",
    "df.loc[(df['Merch description']=='BELLSOUTH MOBILITY DCS')&(df['Merch zip']==30328),['Merch state']]='GA'\n",
    "df.loc[(df['Merch description']=='BGI-BUDGET-PREMIER-RYDER')&(df['Merch zip']==21061),['Merch state']]='MD'\n",
    "\n",
    "df.loc[(df['Merch description']=='BIGELOW LABORATORY')&(df['Merch zip']==4575),['Merch state']]='ME'\n",
    "df.loc[(df['Merch description']=='BIO-RAD LABORATORIES INC.')&(df['Merch state']=='CA'),['Merch zip']]=94547\n",
    "df.loc[(df['Merch description']=='BIOLOGIX TECHNOLOGIES')&(df['Merch state']=='WI'),['Merch zip']]=53716\n",
    "\n",
    "df.loc[(df['Merch description']=='BLOWHITTAKER MOLECULAR')&(df['Merch zip']==4841),['Merch state']]='ME'\n",
    "df.loc[(df['Merch description']==\"BOCA INT'L INC\")&(df['Merch state']=='IL'),['Merch zip']]='unknown'\n",
    "df.loc[(df['Merch description']=='BURLINGTON AIR EXPRESS')&(df['Merch state']=='CA'),['Merch zip']]=90045\n",
    "\n",
    "df.loc[(df['Merch description']=='BUY.COM')&(df['Merch state']=='CA'),['Merch zip']]=94402"
   ]
  },
  {
   "cell_type": "code",
   "execution_count": 105,
   "metadata": {
    "ExecuteTime": {
     "end_time": "2021-04-29T13:55:40.120598Z",
     "start_time": "2021-04-29T13:55:37.981602Z"
    }
   },
   "outputs": [],
   "source": [
    "df.loc[(df['Merch description']=='CAHNERS BUSINESS INFOR-')&(df['Merch state']=='MA'),['Merch zip']]=2140\n",
    "df.loc[(df['Merch description']=='CANDLE COMMUNICATION')&(df['Merch zip']==89119),['Merch state']]='NV'\n",
    "df.loc[(df['Merch description']=='CC *PC MALL')&(df['Merch state']=='CA'),['Merch zip']]=90241\n",
    "\n",
    "df.loc[(df['Merch description']=='CHEMPLEX INDUSTRIES IN')&(df['Merch state']=='FL'),['Merch zip']]=34990\n",
    "df.loc[(df['Merch description']=='COMPUTER ASSOCIATES')&(df['Merch state']=='NJ'),['Merch zip']]=7632\n",
    "df.loc[(df['Merch description']=='CONCENTRA MED CTR-DEN AD')&(df['Merch state']=='CO'),['Merch zip']]=80202\n",
    "\n",
    "df.loc[(df['Merch description']=='CONTROL DATA CIS INTERNET')&(df['Merch zip']==55126),['Merch state']]='MN'\n",
    "df.loc[(df['Merch description']=='CONTROLS & METERS')&(df['Merch state']=='MN'),['Merch zip']]=55439\n",
    "df.loc[(df['Merch description']=='COP*COPLEY NEWSPAPERS')&(df['Merch zip']==92073),['Merch state']]='CA'\n",
    "\n",
    "df.loc[(df['Merch description']=='CRUACHEM INC')&(df['Merch zip']==20166),['Merch state']]='PA'\n",
    "df.loc[(df['Merch description']=='DAY WIRELESS SYSTEMS')&(df['Merch zip']==98032),['Merch state']]='CA'\n",
    "df.loc[(df['Merch description']=='DOUBLETREE HOTELS NATL AP')&(df['Merch zip']==98188),['Merch state']]='WA'\n",
    "\n",
    "df.loc[(df['Merch description']=='DT SOFTWARE INC DT SERCH')&(df['Merch state']=='MD'),['Merch zip']]=20814\n",
    "df.loc[(df['Merch description']=='EARTH FORCE INC')&(df['Merch state']=='VA'),['Merch zip']]=22301\n",
    "df.loc[(df['Merch description']=='ELEMENT K PRESS JOURNALS')&(df['Merch state']=='NY'),['Merch zip']]=14623\n",
    "df.loc[(df['Merch description']=='ELEMENT K PRESS STORE.COM')&(df['Merch state']=='NY'),['Merch zip']]=14623\n",
    "\n",
    "df.loc[(df['Merch description']=='ENET HOLDING INC')&(df['Merch state']=='NJ'),['Merch zip']]=8540\n",
    "df.loc[(df['Merch description']=='EQUIFAX INFO SERVIC')&(df['Merch state']=='GA'),['Merch zip']]=30374\n",
    "\n",
    "df.loc[(df['Merch description']=='EW *EYEWIRE INC CATALG')&(df['Merch zip']==53224),['Merch state']]='WI'\n",
    "df.loc[(df['Merch description']=='EW *EYEWIRE INC WEB')&(df['Merch zip']==53224),['Merch state']]='WI'\n",
    "\n",
    "df.loc[(df['Merch description']=='FCN/CRC/LEWIS/SLP')&(df['Merch zip']==33431),['Merch state']]='FL'\n",
    "\n",
    "df.loc[(df['Merch description']=='FEDERAL EXECUTIVE BOAR')&(df['Merch zip']==64131),['Merch state']]='MO'\n",
    "df.loc[(df['Merch description']=='FEDERAL EXECUTIVE BOAR')&(df['Merch state']=='MO'),['Merch zip']]=64151\n",
    "\n",
    "df.loc[(df['Merch description']=='FISHER SCI ATL')&(df['Merch state']=='GA'),['Merch zip']]=30024\n",
    "\n",
    "df.loc[(df['Merch description']=='FLORIDA PLANTS ONLINE')&(df['Merch state']=='FL'),['Merch zip']]=68106\n",
    "\n",
    "df.loc[(df['Merch description']=='FOTODYNE INC')&(df['Merch state']=='WI'),['Merch zip']]=53029\n",
    "\n",
    "df.loc[(df['Merch description']=='FRANKLIN COVEY #7090')&(df['Merch state']=='CA'),['Merch zip']]=91007\n",
    "\n",
    "df.loc[(df['Merch description']=='FRANKLIN COVEY COMPANY')&(df['Merch state']=='UT'),['Merch zip']]=84119\n",
    "\n",
    "df.loc[(df['Merch description']=='FREEMAN DECORATING')&(df['Merch zip']==22304),['Merch state']]='VA'\n",
    "df.loc[(df['Merch description']=='FREEMAN DECORATING')&(df['Merch state']=='VA'),['Merch zip']]=22314\n",
    "df.loc[(df['Merch description']=='FREEMAN DECORATING')&(df['Merch zip']==7032),['Merch state']]='NJ'\n",
    "\n",
    "df.loc[(df['Merch description']=='GENERAL SERVICES ADMIN')&(df['Merch zip']==64131),['Merch state']]='MO'\n",
    "df.loc[(df['Merch description']=='GES/CHICAGO-71')&(df['Merch zip']==32819),['Merch state']]='FL'\n",
    "\n",
    "df.loc[(df['Merch description']=='GLOBAL COMPUTER SUPPLY')&(df['Merch state']=='IL'),['Merch zip']]=60450\n",
    "\n",
    "df.loc[(df['Merch description']=='GRADUATE SCHOOL USDA')&(df['Merch zip']==75242),['Merch state']]='TX'\n",
    "df.loc[(df['Merch description']=='GRADUATE SCHOOL USDA')&(df['Merch state']=='TX'),['Merch zip']]=75242\n",
    "\n",
    "df.loc[(df['Merch description']=='GRANTHAM COLLEGE OF')&(df['Merch state']=='LA'),['Merch zip']]=70460\n",
    "\n",
    "df.loc[(df['Merch description']=='GTE WIRELESS')&(df['Merch state']=='GA'),['Merch zip']]=30346\n",
    "\n",
    "df.loc[(df['Merch description']=='GUESS RETAIL STORE #505')&(df['Merch state']=='FL'),['Merch zip']]=33139\n",
    "\n",
    "df.loc[(df['Merch description']=='GULF SOUTH MEDICAL SUPPLY')&(df['Merch state']=='FL'),['Merch zip']]=39157\n",
    "\n",
    "df.loc[(df['Merch description']=='HAWTHORN SUITES, LTD')&(df['Merch state']=='AK'),['Merch zip']]=99501\n",
    "\n",
    "df.loc[(df['Merch description']=='HILL MANUFACTURING CO INC')&(df['Merch state']=='GA'),['Merch zip']]=30315\n",
    "\n",
    "df.loc[(df['Merch description']=='HOLIDAY INNS HTL & ST HS')&(df['Merch state']=='VA'),['Merch zip']]=23451\n",
    "\n",
    "df.loc[(df['Merch description']=='HOME DEPOT #129')&(df['Merch state']=='GA'),['Merch zip']]=30606\n",
    "\n",
    "# IP ADDRESS IS AT THIS LOCATION\n",
    "df.loc[(df['Merch description']=='IBILL  *www.ibillCS.com')&(df['Merch zip']==3),['Merch state']]='VA'\n",
    "df.loc[(df['Merch description']=='IBILL  *www.ibillCS.com')&(df['Merch state']=='VA'),['Merch zip']]=20149\n",
    "\n",
    "df.loc[(df['Merch description']=='ICON HEALTH & FITNESS')&(df['Merch state']=='ut'),['Merch zip']]=84321\n",
    "\n",
    "df.loc[(df['Merch description']=='IMS OF KANSAS CITY INC')&(df['Merch zip']==66214),['Merch state']]='KS'\n",
    "\n",
    "df.loc[(df['Merch description']=='ISSX')&(df['Merch zip']==20014),['Merch state']]='DC'\n",
    "df.loc[(df['Merch description']=='ISSX')&(df['Merch state']=='DC'),['Merch zip']]=20006\n",
    "\n",
    "df.loc[(df['Merch description']=='JB COMPUTER CONSULTING')&(df['Merch state']=='CT'),['Merch zip']]=6611\n",
    "\n",
    "df.loc[(df['Merch description']=='JERRY CROUSES TIRE/AUTO')&(df['Merch state']=='CO'),['Merch zip']]=80501\n",
    "\n",
    "df.loc[(df['Merch description']=='KEYSAN CATALOG')&(df['Merch zip']==33308),['Merch state']]='FL'\n",
    "\n",
    "df.loc[(df['Merch description']==\"KINKO'S, INC #418\")&(df['Merch zip']==66105),['Merch state']]='KS'\n",
    "df.loc[(df['Merch description']==\"KINKO'S,INC #671\")&(df['Merch zip']==93002),['Merch state']]='CA'\n",
    "\n",
    "#FRAUD\n",
    "df.loc[(df['Merch description']=='KROGER #374        SL9')&(df['Merch zip']==25231),['Merch state']]='TX'\n",
    "df.loc[(df['Merch description']=='KROGER #374        SL9')&(df['Merch state']=='TX'),['Merch zip']]=77095\n",
    "\n",
    "df.loc[(df['Merch description']=='KRUG FURNITURE INC')&(df['Merch state']=='CA'),['Merch zip']]=95112\n",
    "\n",
    "df.loc[(df['Merch description']=='LEHIGH SAFETY SHOE CO')&(df['Merch state']=='OH'),['Merch zip']]=60638\n",
    "\n",
    "df.loc[(df['Merch description']=='LIGHT IMPRESSIONS')&(df['Merch state']=='CA'),['Merch zip']]=92821\n",
    "\n",
    "df.loc[(df['Merch description']=='LINCOLN COUNTY JOURNAL')&(df['Merch zip']==63379),['Merch state']]='MO'\n",
    "\n",
    "df.loc[(df['Merch description']=='MADISON COMPANY')&(df['Merch state']=='CT'),['Merch zip']]=6405\n",
    "\n",
    "df.loc[(df['Merch description']=='MAINE BIOTECHNOLOGY SVCS.')&(df['Merch zip']==4103),['Merch state']]='ME'\n",
    "\n",
    "df.loc[(df['Merch description']=='MALLINCKRODT-BAKER INC')&(df['Merch zip']==8865),['Merch state']]='NJ'\n",
    "\n",
    "df.loc[(df['Merch description']=='MARYLAND COMPUTER SYS')&(df['Merch state']=='MD'),['Merch zip']]=20646\n",
    "\n",
    "df.loc[(df['Merch description']=='MATRIX TECHNOLOGIES CORP')&(df['Merch zip']==3051),['Merch state']]='NH'\n",
    "\n",
    "df.loc[(df['Merch description']=='MICHAELS STORES, INC. #87')&(df['Merch state']=='RI'),['Merch zip']]=2886\n",
    "\n",
    "df.loc[(df['Merch description']=='MICRO CENTER #191 RETAIL')&(df['Merch zip']==11590),['Merch state']]='NY'\n",
    "\n",
    "df.loc[(df['Merch description']=='MID STATE CAMERA SERVICE')&(df['Merch state']=='IL'),['Merch zip']]=60602\n",
    "\n",
    "df.loc[(df['Merch description']=='MIDWAY AIR  8781597326876')&(df['Merch state']=='NC'),['Merch zip']]=27707\n",
    "\n",
    "df.loc[(df['Merch description']=='MITTLER SUPPLY INC')&(df['Merch state']=='IN'),['Merch zip']]=46334\n",
    "\n",
    "df.loc[(df['Merch description']=='MONSTER.COM #15')&(df['Merch state']=='MA'),['Merch zip']]=2493\n",
    "\n",
    "df.loc[(df['Merch description']=='MUTUAL SAFE COMPANY INC')&(df['Merch state']=='CA'),['Merch zip']]=92627\n",
    "\n",
    "df.loc[(df['Merch description']=='NAT ACCTS #951')&(df['Merch state']=='GA'),['Merch zip']]=30328\n",
    "\n",
    "df.loc[(df['Merch description']=='NAT* GEOGRAPHIC MAG')&(df['Merch zip']==20036),['Merch state']]='DC'\n",
    "\n",
    "df.loc[(df['Merch description']=='NCT HEARING PRODUCTS')&(df['Merch state']=='CT'),['Merch zip']]=6880\n",
    "\n",
    "df.loc[(df['Merch description']=='NELLCOR PURITAN BENNETT')&(df['Merch zip']==94588),['Merch state']]='CA'\n",
    "\n",
    "df.loc[(df['Merch description']=='NITON CORPORATION')&(df['Merch zip']==1730),['Merch state']]='MA'\n",
    "\n",
    "df.loc[(df['Merch description']=='NMSU-STUDENT ACCOUNTS')&(df['Merch state']=='NM'),['Merch zip']]=88003\n",
    "\n",
    "df.loc[(df['Merch description']=='NORTH CAROLINA STATE')&(df['Merch state']=='NC'),['Merch zip']]=27695\n",
    "\n",
    "df.loc[(df['Merch description']=='NOVA RESEARCH COMPANY')&(df['Merch state']=='MD'),['Merch zip']]=20910\n",
    "\n",
    "df.loc[(df['Merch description']=='OFFICE DEPOT #1082')&(df['Merch state']=='MD'),['Merch zip']]=20763\n",
    "\n",
    "#('OFFICE DEPOT #1090', 'MA', 55441.0) MAY BE FRAUD\n",
    "df.iloc[63501,6]=1752\n",
    "\n",
    "#STORE : 360 420 452 629\n",
    "df.iloc[14233,6]=30078\n",
    "df.iloc[71140,6]=38671\n",
    "df.iloc[19236,6]=80012\n",
    "df.iloc[86956,5]='PA'\n",
    "\n",
    "df.loc[(df['Merch description']=='OFFICE DEPOT #804')&(df['Merch zip']==84107),['Merch state']]='AL'\n",
    "df.loc[(df['Merch description']=='OFFICE DEPOT #804')&(df['Merch state']=='AL'),['Merch zip']]=35801\n",
    "\n",
    "df.loc[(df['Merch description']=='OMNISTAR INC')&(df['Merch zip']==77063),['Merch state']]='TX'\n",
    "df.loc[(df['Merch description']=='OMNISTAR INC')&(df['Merch state']=='TX'),['Merch zip']]=77081\n",
    "\n",
    "df.loc[(df['Merch description']=='ONVIA.COM')&(df['Merch state']=='WA'),['Merch zip']]=98101\n",
    "\n",
    "df.loc[(df['Merch description']=='PC *PC CONNECTION')&(df['Merch state']=='NH'),['Merch zip']]=3054\n",
    "\n",
    "df.loc[(df['Merch description']=='PGH INTL AIRPORT   Q3J')&(df['Merch state']=='PA'),['Merch zip']]=15231\n",
    "\n",
    "df.loc[(df['Merch description']=='PH MOTION  AND  CONTROL S')&(df['Merch zip']==48083),['Merch state']]='MI'\n",
    "\n",
    "df.loc[(df['Merch description']=='PORTERS CAMERA STORE')&(df['Merch state']=='IA'),['Merch zip']]=50613\n",
    "\n",
    "df.loc[(df['Merch description']=='PROFESS OFC ENTERPRISES')&(df['Merch state']=='VA'),['Merch zip']]=22304\n",
    "\n",
    "df.loc[(df['Merch description']=='PH FILTRATION BOSTON')&(df['Merch state']=='MA'),['Merch zip']]=1876\n",
    "\n",
    "df.loc[(df['Merch description']=='PUMA TECHNOLOGY SERVICES')&(df['Merch state']=='CA'),['Merch zip']]=94117\n",
    "\n",
    "df.loc[(df['Merch description']=='RADIO SHACK   00140731')&(df['Merch state']=='CO'),['Merch zip']]=80202\n",
    "df.loc[(df['Merch description']=='RADIO SHACK   00186049')&(df['Merch state']=='CO'),['Merch zip']]=80206\n",
    "\n",
    "df.loc[(df['Merch description']=='RANGEL DISTRIBUTING CO')&(df['Merch zip']==64101),['Merch state']]='MO'\n",
    "\n",
    "df.loc[(df['Merch description']=='RED WING SHOES 824')&(df['Merch zip']==60402),['Merch state']]='IL'\n",
    "df.loc[(df['Merch description']=='RED WING SHOES 845')&(df['Merch zip']==60515),['Merch state']]='IL'\n",
    "df.loc[(df['Merch description']=='RED WING SHOES 884')&(df['Merch zip']==94015),['Merch state']]='CA'\n",
    "df.loc[(df['Merch description']=='RED WING SHOES 888')&(df['Merch zip']==30083),['Merch state']]='GA'\n",
    "df.loc[(df['Merch description']=='RED WING SHOES 897')&(df['Merch zip']==60194),['Merch state']]='IL'\n",
    "df.loc[(df['Merch description']=='RED WING SHOES 902')&(df['Merch zip']==22150),['Merch state']]='VA'\n",
    "\n",
    "df.loc[(df['Merch description']=='REGNET')&(df['Merch zip']==91321),['Merch state']]='CO'\n",
    "\n",
    "df.loc[(df['Merch description']=='REPROGRPHC TECHNLGIES INC')&(df['Merch state']=='MD'),['Merch zip']]=20879\n",
    "\n",
    "df.loc[(df['Merch description']=='RITZ CAMERA #528')&(df['Merch zip']==60604),['Merch state']]='IL'\n",
    "\n",
    "df.loc[(df['Merch description']=='RITZ CAMERA CENTER #1021')&(df['Merch zip']==20705),['Merch state']]='WA'\n",
    "\n",
    "df.loc[(df['Merch description']=='RIVIERA HOTEL AND CASINO')&(df['Merch state']=='NV'),['Merch zip']]=89109\n",
    "\n",
    "df.loc[(df['Merch description']=='RSEWEB.COM 8774054986')&(df['Merch state']=='CA'),['Merch zip']]=91324\n",
    "\n",
    "df.loc[(df['Merch description']=='ROGUE WARE SFTWR SERV')&(df['Merch state']=='CA'),['Merch zip']]=94501\n",
    "\n",
    "df.loc[(df['Merch description']=='S  *S S ARTS  CRAFT')&(df['Merch state']=='CT'),['Merch zip']]=6415\n",
    "\n",
    "df.loc[(df['Merch description']=='SAVIN CORP')&(df['Merch state']=='GA'),['Merch zip']]=30097\n",
    "\n",
    "df.loc[(df['Merch description']=='SHELL NO 27424732603')&(df['Merch zip']==80120),['Merch state']]='CO'\n",
    "\n",
    "df.loc[(df['Merch description']=='SKILLPATH SEMINARS CANADA')&(df['Merch state']=='KS'),['Merch zip']]=66202\n",
    "\n",
    "df.loc[(df['Merch description']=='SLEEPING BEAR/AA PRESS')&(df['Merch state']=='MI'),['Merch zip']]=48104\n",
    "\n",
    "df.loc[(df['Merch description']=='SOFTCHOICE CORPORATION')&(df['Merch zip']==10003),['Merch state']]='NY'\n",
    "\n",
    "df.loc[(df['Merch description']==\"SOFTWARE SHELF INT'L INC\")&(df['Merch state']=='FL'),['Merch zip']]=33755\n",
    "\n",
    "df.loc[(df['Merch description']==\"SPRINT PCS #998\")&(df['Merch state']=='MO'),['Merch zip']]=64112\n",
    "df.loc[(df['Merch description']==\"SPRINT PCS #998\")&(df['Merch state']=='MO'),['Merch zip']]=64112\n",
    "\n",
    "df.loc[(df['Merch description']=='STAPLES #218')&(df['Merch zip']==20005),['Merch state']]='DC'\n",
    "df.loc[(df['Merch description']==\"STAPLES #792\")&(df['Merch state']=='VA'),['Merch zip']]=22021\n",
    "df.loc[(df['Merch description']==\"STAPLES #941\")&(df['Merch state']=='PA'),['Merch zip']]=17201\n",
    "df.loc[(df['Merch description']=='STAPLES #98')&(df['Merch zip']==17404),['Merch state']]='PA'\n",
    "\n",
    "df.loc[(df['Merch description']=='STRATAGENE CLONING SYS')&(df['Merch zip']==92037),['Merch state']]='CA'\n",
    "\n",
    "df.loc[(df['Merch description']==\"STRAYER COLLEGE\")&(df['Merch state']=='MD'),['Merch zip']]=20746\n",
    "df.loc[(df['Merch description']==\"STRAYER UNIVERSITY\")&(df['Merch state']=='MD'),['Merch zip']]=20746\n",
    "\n",
    "df.loc[(df['Merch description']=='STUART C IRBY COMPANY 11')&(df['Merch zip']==39215),['Merch state']]='MS'\n",
    "\n",
    "df.loc[(df['Merch description']=='STUART PROMOTIONAL PROD')&(df['Merch zip']==34609),['Merch state']]='PA'\n",
    "\n",
    "df.loc[(df['Merch description']==\"SUN MICROSYSTEMS, INC.\")&(df['Merch state']=='CA'),['Merch zip']]=94303\n",
    "\n",
    "df.loc[(df['Merch description']==\"SYBASE IAD SUBSCRIPTION\")&(df['Merch state']=='CA'),['Merch zip']]=95008\n",
    "\n",
    "df.loc[(df['Merch description']==\"SYNERGY SOLUTIONS, INC\")&(df['Merch state']=='NY'),['Merch zip']]=89120\n",
    "df.loc[(df['Merch description']=='SYNERGY SOLUTIONS, INC')&(df['Merch zip']==89120),['Merch state']]='NV'\n",
    "\n",
    "df.loc[(df['Merch description']=='TEKTRONIX MBD PARTS 09')&(df['Merch zip']==97077),['Merch state']]='OR'\n",
    "\n",
    "df.loc[(df['Merch description']=='TERATOLOGY SOCIETY')&(df['Merch zip']==20190),['Merch state']]='VA'\n",
    "\n",
    "df.loc[(df['Merch description']==\"THE HOME DEPOT #129\")&(df['Merch state']=='GA'),['Merch zip']]=30606\n",
    "\n",
    "df.loc[(df['Merch description']=='THE NATL ASSOC ENV PROFS')&(df['Merch zip']==33853),['Merch state']]='FL'\n",
    "\n",
    "df.loc[(df['Merch description']=='THE SPORTS AUTHORITY #804')&(df['Merch zip']==8648),['Merch state']]='NJ'\n",
    "\n",
    "df.loc[(df['Merch description']=='TLC')&(df['Merch zip']==20740),['Merch state']]='MD'\n",
    "\n",
    "df.loc[(df['Merch description']=='TLC              00 OF 00')&(df['Merch zip']==20740),['Merch state']]='MD'\n",
    "\n",
    "df.loc[(df['Merch description']==\"TROEMNER LLC\")&(df['Merch state']=='NJ'),['Merch zip']]=8086\n",
    "\n",
    "df.loc[(df['Merch description']=='TTL AUDIO VISUAL SYTM INC')&(df['Merch zip']==20910),['Merch state']]='MD'\n",
    "\n",
    "df.loc[(df['Merch description']=='UNITED AIR  0161590898501')&(df['Merch zip']==60007),['Merch state']]='IL'\n",
    "\n",
    "df.loc[(df['Merch description']==\"UPPER VALLEY LOCK DOCTOR\")&(df['Merch state']=='NH'),['Merch zip']]=3741\n",
    "\n",
    "df.loc[(df['Merch description']==\"US EXPRESS INC\")&(df['Merch state']=='MD'),['Merch zip']]=20785\n",
    "\n",
    "df.loc[(df['Merch description']=='VICKERS INC TRAINING CTR')&(df['Merch zip']==48309),['Merch state']]='MI'\n",
    "\n",
    "df.loc[(df['Merch description']=='WASHINGTON COURIER')&(df['Merch zip']==20036),['Merch state']]='DC'\n",
    "\n",
    "df.loc[(df['Merch description']=='WASHINTON SERVICE BUREAU')&(df['Merch zip']==10019),['Merch state']]='DC'\n",
    "df.loc[(df['Merch description']==\"WASHINTON SERVICE BUREAU\")&(df['Merch state']=='DC'),['Merch zip']]=20005\n",
    "\n",
    "df.loc[(df['Merch description']==\"WQT*D SNORE 1OF1\")&(df['Merch state']=='CA'),['Merch zip']]=91360\n",
    "\n",
    "df.loc[(df['Merch description']=='WirelessCall to 888271028')&(df['Merch zip']==2109),['Merch state']]='MA'\n",
    "\n",
    "df.loc[(df['Merch description']==\"ZDU.COM WEB PURCHASES\")&(df['Merch state']=='NY'),['Merch zip']]='unknown'\n",
    "\n",
    "df.loc[(df['Merch description']==\"RADIOSHACK.COM 0757005\")&(df['Merch state']=='TX'),['Merch zip']]=75705\n",
    "\n"
   ]
  },
  {
   "cell_type": "code",
   "execution_count": 725,
   "metadata": {
    "ExecuteTime": {
     "end_time": "2021-04-29T13:55:40.123756Z",
     "start_time": "2021-04-29T13:55:40.122050Z"
    }
   },
   "outputs": [],
   "source": [
    "# DID NOT FIND ANY RECORD \n",
    "#('O O O CHECKMATE', 'CA', 80535.0) \n",
    "#('SUN AUTHORIZED SOFTWARE', 'CA', 68106.0)\n",
    "#('SUPPLY ONE #6', 'OR', 80301.0)\n",
    "#('THE WELLNESS NEWSLETTER', 'NY', 32034.0)\n",
    "#('WESTWOOD ACCOUNTING', 'TX', 19111.0)"
   ]
  },
  {
   "cell_type": "code",
   "execution_count": null,
   "metadata": {},
   "outputs": [],
   "source": []
  },
  {
   "cell_type": "code",
   "execution_count": 726,
   "metadata": {
    "ExecuteTime": {
     "end_time": "2021-04-29T13:55:40.127828Z",
     "start_time": "2021-04-29T13:55:40.125633Z"
    }
   },
   "outputs": [],
   "source": [
    "# For merch description =='Retail credit adjustment', there are 357 records without state and zip,\n",
    "# we just replace them with \"unknown\"\n",
    "#df.loc[(df['Merch description']=='RETAIL CREDIT ADJUSTMENT')  & (df['Merch state'].isnull()) &(df['Merch zip'].isnull())]"
   ]
  },
  {
   "cell_type": "code",
   "execution_count": 106,
   "metadata": {
    "ExecuteTime": {
     "end_time": "2021-04-29T13:55:40.158691Z",
     "start_time": "2021-04-29T13:55:40.129252Z"
    }
   },
   "outputs": [
    {
     "name": "stdout",
     "output_type": "stream",
     "text": [
      "<class 'pandas.core.frame.DataFrame'>\n",
      "Int64Index: 96752 entries, 0 to 96751\n",
      "Data columns (total 13 columns):\n",
      " #   Column             Non-Null Count  Dtype         \n",
      "---  ------             --------------  -----         \n",
      " 0   Recnum             96752 non-null  int64         \n",
      " 1   Cardnum            96752 non-null  int64         \n",
      " 2   Date               96752 non-null  datetime64[ns]\n",
      " 3   Merchnum           93378 non-null  object        \n",
      " 4   Merch description  96752 non-null  object        \n",
      " 5   Merch state        95558 non-null  object        \n",
      " 6   Merch zip          92136 non-null  object        \n",
      " 7   Transtype          96752 non-null  object        \n",
      " 8   Amount             96752 non-null  float64       \n",
      " 9   Fraud              96752 non-null  int64         \n",
      " 10  State Name         95186 non-null  object        \n",
      " 11  Zip_min            95186 non-null  float64       \n",
      " 12  Zip_max            95186 non-null  float64       \n",
      "dtypes: datetime64[ns](1), float64(3), int64(3), object(6)\n",
      "memory usage: 10.3+ MB\n"
     ]
    }
   ],
   "source": [
    "df.info()"
   ]
  },
  {
   "cell_type": "code",
   "execution_count": 728,
   "metadata": {
    "ExecuteTime": {
     "end_time": "2021-04-29T13:55:40.161623Z",
     "start_time": "2021-04-29T13:55:40.159915Z"
    }
   },
   "outputs": [],
   "source": [
    "#df.loc[(df['Merch description']=='RETAIL CREDIT ADJUSTMENT')  & (df['Merch state'].isnull()) &(df['Merch zip'].isnull()),['Merch state']]='unknown'\n",
    "#df.loc[df['Merch description']=='RETAIL CREDIT ADJUSTMENT',['Merch zip']]='unknown'"
   ]
  },
  {
   "cell_type": "code",
   "execution_count": 107,
   "metadata": {
    "ExecuteTime": {
     "end_time": "2021-04-29T13:55:40.183697Z",
     "start_time": "2021-04-29T13:55:40.163351Z"
    }
   },
   "outputs": [
    {
     "data": {
      "text/html": [
       "<div>\n",
       "<style scoped>\n",
       "    .dataframe tbody tr th:only-of-type {\n",
       "        vertical-align: middle;\n",
       "    }\n",
       "\n",
       "    .dataframe tbody tr th {\n",
       "        vertical-align: top;\n",
       "    }\n",
       "\n",
       "    .dataframe thead th {\n",
       "        text-align: right;\n",
       "    }\n",
       "</style>\n",
       "<table border=\"1\" class=\"dataframe\">\n",
       "  <thead>\n",
       "    <tr style=\"text-align: right;\">\n",
       "      <th></th>\n",
       "      <th>Recnum</th>\n",
       "      <th>Cardnum</th>\n",
       "      <th>Date</th>\n",
       "      <th>Merchnum</th>\n",
       "      <th>Merch description</th>\n",
       "      <th>Merch state</th>\n",
       "      <th>Merch zip</th>\n",
       "      <th>Transtype</th>\n",
       "      <th>Amount</th>\n",
       "      <th>Fraud</th>\n",
       "    </tr>\n",
       "  </thead>\n",
       "  <tbody>\n",
       "    <tr>\n",
       "      <th>0</th>\n",
       "      <td>1</td>\n",
       "      <td>5142190439</td>\n",
       "      <td>2010-01-01</td>\n",
       "      <td>5509006296254</td>\n",
       "      <td>FEDEX SHP 12/23/09 AB#</td>\n",
       "      <td>TN</td>\n",
       "      <td>38118</td>\n",
       "      <td>P</td>\n",
       "      <td>3.62</td>\n",
       "      <td>0</td>\n",
       "    </tr>\n",
       "    <tr>\n",
       "      <th>1</th>\n",
       "      <td>2</td>\n",
       "      <td>5142183973</td>\n",
       "      <td>2010-01-01</td>\n",
       "      <td>61003026333</td>\n",
       "      <td>SERVICE MERCHANDISE #81</td>\n",
       "      <td>MA</td>\n",
       "      <td>1803</td>\n",
       "      <td>P</td>\n",
       "      <td>31.42</td>\n",
       "      <td>0</td>\n",
       "    </tr>\n",
       "    <tr>\n",
       "      <th>2</th>\n",
       "      <td>3</td>\n",
       "      <td>5142131721</td>\n",
       "      <td>2010-01-01</td>\n",
       "      <td>4503082993600</td>\n",
       "      <td>OFFICE DEPOT #191</td>\n",
       "      <td>MD</td>\n",
       "      <td>20706</td>\n",
       "      <td>P</td>\n",
       "      <td>178.49</td>\n",
       "      <td>0</td>\n",
       "    </tr>\n",
       "    <tr>\n",
       "      <th>3</th>\n",
       "      <td>4</td>\n",
       "      <td>5142148452</td>\n",
       "      <td>2010-01-01</td>\n",
       "      <td>5509006296254</td>\n",
       "      <td>FEDEX SHP 12/28/09 AB#</td>\n",
       "      <td>TN</td>\n",
       "      <td>38118</td>\n",
       "      <td>P</td>\n",
       "      <td>3.62</td>\n",
       "      <td>0</td>\n",
       "    </tr>\n",
       "    <tr>\n",
       "      <th>4</th>\n",
       "      <td>5</td>\n",
       "      <td>5142190439</td>\n",
       "      <td>2010-01-01</td>\n",
       "      <td>5509006296254</td>\n",
       "      <td>FEDEX SHP 12/23/09 AB#</td>\n",
       "      <td>TN</td>\n",
       "      <td>38118</td>\n",
       "      <td>P</td>\n",
       "      <td>3.62</td>\n",
       "      <td>0</td>\n",
       "    </tr>\n",
       "    <tr>\n",
       "      <th>...</th>\n",
       "      <td>...</td>\n",
       "      <td>...</td>\n",
       "      <td>...</td>\n",
       "      <td>...</td>\n",
       "      <td>...</td>\n",
       "      <td>...</td>\n",
       "      <td>...</td>\n",
       "      <td>...</td>\n",
       "      <td>...</td>\n",
       "      <td>...</td>\n",
       "    </tr>\n",
       "    <tr>\n",
       "      <th>96747</th>\n",
       "      <td>96749</td>\n",
       "      <td>5142276053</td>\n",
       "      <td>2010-12-31</td>\n",
       "      <td>3500000006160</td>\n",
       "      <td>BEST BUY      00001610</td>\n",
       "      <td>KY</td>\n",
       "      <td>41042</td>\n",
       "      <td>P</td>\n",
       "      <td>84.79</td>\n",
       "      <td>0</td>\n",
       "    </tr>\n",
       "    <tr>\n",
       "      <th>96748</th>\n",
       "      <td>96750</td>\n",
       "      <td>5142225701</td>\n",
       "      <td>2010-12-31</td>\n",
       "      <td>8090710030950</td>\n",
       "      <td>MARKUS OFFICE SUPPLIES</td>\n",
       "      <td>OH</td>\n",
       "      <td>45248</td>\n",
       "      <td>P</td>\n",
       "      <td>118.75</td>\n",
       "      <td>0</td>\n",
       "    </tr>\n",
       "    <tr>\n",
       "      <th>96749</th>\n",
       "      <td>96751</td>\n",
       "      <td>5142226486</td>\n",
       "      <td>2010-12-31</td>\n",
       "      <td>4503057341100</td>\n",
       "      <td>TECH PAC, INC</td>\n",
       "      <td>OH</td>\n",
       "      <td>45150</td>\n",
       "      <td>P</td>\n",
       "      <td>363.56</td>\n",
       "      <td>0</td>\n",
       "    </tr>\n",
       "    <tr>\n",
       "      <th>96750</th>\n",
       "      <td>96752</td>\n",
       "      <td>5142244619</td>\n",
       "      <td>2010-12-31</td>\n",
       "      <td>8834000695412</td>\n",
       "      <td>BUY.COM</td>\n",
       "      <td>CA</td>\n",
       "      <td>94402</td>\n",
       "      <td>P</td>\n",
       "      <td>2202.03</td>\n",
       "      <td>0</td>\n",
       "    </tr>\n",
       "    <tr>\n",
       "      <th>96751</th>\n",
       "      <td>96753</td>\n",
       "      <td>5142243247</td>\n",
       "      <td>2010-12-31</td>\n",
       "      <td>9108347680006</td>\n",
       "      <td>STAPLES NATIONAL #471</td>\n",
       "      <td>NJ</td>\n",
       "      <td>7606</td>\n",
       "      <td>P</td>\n",
       "      <td>554.64</td>\n",
       "      <td>0</td>\n",
       "    </tr>\n",
       "  </tbody>\n",
       "</table>\n",
       "<p>96752 rows × 10 columns</p>\n",
       "</div>"
      ],
      "text/plain": [
       "       Recnum     Cardnum       Date       Merchnum        Merch description  \\\n",
       "0           1  5142190439 2010-01-01  5509006296254   FEDEX SHP 12/23/09 AB#   \n",
       "1           2  5142183973 2010-01-01    61003026333  SERVICE MERCHANDISE #81   \n",
       "2           3  5142131721 2010-01-01  4503082993600        OFFICE DEPOT #191   \n",
       "3           4  5142148452 2010-01-01  5509006296254   FEDEX SHP 12/28/09 AB#   \n",
       "4           5  5142190439 2010-01-01  5509006296254   FEDEX SHP 12/23/09 AB#   \n",
       "...       ...         ...        ...            ...                      ...   \n",
       "96747   96749  5142276053 2010-12-31  3500000006160   BEST BUY      00001610   \n",
       "96748   96750  5142225701 2010-12-31  8090710030950   MARKUS OFFICE SUPPLIES   \n",
       "96749   96751  5142226486 2010-12-31  4503057341100            TECH PAC, INC   \n",
       "96750   96752  5142244619 2010-12-31  8834000695412                  BUY.COM   \n",
       "96751   96753  5142243247 2010-12-31  9108347680006    STAPLES NATIONAL #471   \n",
       "\n",
       "      Merch state Merch zip Transtype   Amount  Fraud  \n",
       "0              TN     38118         P     3.62      0  \n",
       "1              MA      1803         P    31.42      0  \n",
       "2              MD     20706         P   178.49      0  \n",
       "3              TN     38118         P     3.62      0  \n",
       "4              TN     38118         P     3.62      0  \n",
       "...           ...       ...       ...      ...    ...  \n",
       "96747          KY     41042         P    84.79      0  \n",
       "96748          OH     45248         P   118.75      0  \n",
       "96749          OH     45150         P   363.56      0  \n",
       "96750          CA     94402         P  2202.03      0  \n",
       "96751          NJ      7606         P   554.64      0  \n",
       "\n",
       "[96752 rows x 10 columns]"
      ]
     },
     "execution_count": 107,
     "metadata": {},
     "output_type": "execute_result"
    }
   ],
   "source": [
    "# Drop zipfile for the next merge \n",
    "df=df.drop(columns=['State Name','Zip_min','Zip_max'])\n",
    "df"
   ]
  },
  {
   "cell_type": "code",
   "execution_count": 108,
   "metadata": {
    "ExecuteTime": {
     "end_time": "2021-04-29T13:55:40.221642Z",
     "start_time": "2021-04-29T13:55:40.184943Z"
    }
   },
   "outputs": [
    {
     "data": {
      "text/html": [
       "<div>\n",
       "<style scoped>\n",
       "    .dataframe tbody tr th:only-of-type {\n",
       "        vertical-align: middle;\n",
       "    }\n",
       "\n",
       "    .dataframe tbody tr th {\n",
       "        vertical-align: top;\n",
       "    }\n",
       "\n",
       "    .dataframe thead th {\n",
       "        text-align: right;\n",
       "    }\n",
       "</style>\n",
       "<table border=\"1\" class=\"dataframe\">\n",
       "  <thead>\n",
       "    <tr style=\"text-align: right;\">\n",
       "      <th></th>\n",
       "      <th>Recnum</th>\n",
       "      <th>Cardnum</th>\n",
       "      <th>Date</th>\n",
       "      <th>Merchnum</th>\n",
       "      <th>Merch description</th>\n",
       "      <th>Merch state</th>\n",
       "      <th>Merch zip</th>\n",
       "      <th>Transtype</th>\n",
       "      <th>Amount</th>\n",
       "      <th>Fraud</th>\n",
       "      <th>State Name</th>\n",
       "      <th>Zip_min</th>\n",
       "      <th>Zip_max</th>\n",
       "    </tr>\n",
       "  </thead>\n",
       "  <tbody>\n",
       "    <tr>\n",
       "      <th>0</th>\n",
       "      <td>1</td>\n",
       "      <td>5142190439</td>\n",
       "      <td>2010-01-01</td>\n",
       "      <td>5509006296254</td>\n",
       "      <td>FEDEX SHP 12/23/09 AB#</td>\n",
       "      <td>TN</td>\n",
       "      <td>38118</td>\n",
       "      <td>P</td>\n",
       "      <td>3.62</td>\n",
       "      <td>0</td>\n",
       "      <td>Tennessee</td>\n",
       "      <td>37010.0</td>\n",
       "      <td>38589.0</td>\n",
       "    </tr>\n",
       "    <tr>\n",
       "      <th>1</th>\n",
       "      <td>2</td>\n",
       "      <td>5142183973</td>\n",
       "      <td>2010-01-01</td>\n",
       "      <td>61003026333</td>\n",
       "      <td>SERVICE MERCHANDISE #81</td>\n",
       "      <td>MA</td>\n",
       "      <td>1803</td>\n",
       "      <td>P</td>\n",
       "      <td>31.42</td>\n",
       "      <td>0</td>\n",
       "      <td>Massachusetts</td>\n",
       "      <td>1001.0</td>\n",
       "      <td>2791.0</td>\n",
       "    </tr>\n",
       "    <tr>\n",
       "      <th>2</th>\n",
       "      <td>3</td>\n",
       "      <td>5142131721</td>\n",
       "      <td>2010-01-01</td>\n",
       "      <td>4503082993600</td>\n",
       "      <td>OFFICE DEPOT #191</td>\n",
       "      <td>MD</td>\n",
       "      <td>20706</td>\n",
       "      <td>P</td>\n",
       "      <td>178.49</td>\n",
       "      <td>0</td>\n",
       "      <td>Maryland</td>\n",
       "      <td>20331.0</td>\n",
       "      <td>21930.0</td>\n",
       "    </tr>\n",
       "    <tr>\n",
       "      <th>3</th>\n",
       "      <td>4</td>\n",
       "      <td>5142148452</td>\n",
       "      <td>2010-01-01</td>\n",
       "      <td>5509006296254</td>\n",
       "      <td>FEDEX SHP 12/28/09 AB#</td>\n",
       "      <td>TN</td>\n",
       "      <td>38118</td>\n",
       "      <td>P</td>\n",
       "      <td>3.62</td>\n",
       "      <td>0</td>\n",
       "      <td>Tennessee</td>\n",
       "      <td>37010.0</td>\n",
       "      <td>38589.0</td>\n",
       "    </tr>\n",
       "    <tr>\n",
       "      <th>4</th>\n",
       "      <td>5</td>\n",
       "      <td>5142190439</td>\n",
       "      <td>2010-01-01</td>\n",
       "      <td>5509006296254</td>\n",
       "      <td>FEDEX SHP 12/23/09 AB#</td>\n",
       "      <td>TN</td>\n",
       "      <td>38118</td>\n",
       "      <td>P</td>\n",
       "      <td>3.62</td>\n",
       "      <td>0</td>\n",
       "      <td>Tennessee</td>\n",
       "      <td>37010.0</td>\n",
       "      <td>38589.0</td>\n",
       "    </tr>\n",
       "    <tr>\n",
       "      <th>...</th>\n",
       "      <td>...</td>\n",
       "      <td>...</td>\n",
       "      <td>...</td>\n",
       "      <td>...</td>\n",
       "      <td>...</td>\n",
       "      <td>...</td>\n",
       "      <td>...</td>\n",
       "      <td>...</td>\n",
       "      <td>...</td>\n",
       "      <td>...</td>\n",
       "      <td>...</td>\n",
       "      <td>...</td>\n",
       "      <td>...</td>\n",
       "    </tr>\n",
       "    <tr>\n",
       "      <th>96747</th>\n",
       "      <td>96749</td>\n",
       "      <td>5142276053</td>\n",
       "      <td>2010-12-31</td>\n",
       "      <td>3500000006160</td>\n",
       "      <td>BEST BUY      00001610</td>\n",
       "      <td>KY</td>\n",
       "      <td>41042</td>\n",
       "      <td>P</td>\n",
       "      <td>84.79</td>\n",
       "      <td>0</td>\n",
       "      <td>Kentucky</td>\n",
       "      <td>40003.0</td>\n",
       "      <td>42788.0</td>\n",
       "    </tr>\n",
       "    <tr>\n",
       "      <th>96748</th>\n",
       "      <td>96750</td>\n",
       "      <td>5142225701</td>\n",
       "      <td>2010-12-31</td>\n",
       "      <td>8090710030950</td>\n",
       "      <td>MARKUS OFFICE SUPPLIES</td>\n",
       "      <td>OH</td>\n",
       "      <td>45248</td>\n",
       "      <td>P</td>\n",
       "      <td>118.75</td>\n",
       "      <td>0</td>\n",
       "      <td>Ohio</td>\n",
       "      <td>43001.0</td>\n",
       "      <td>45999.0</td>\n",
       "    </tr>\n",
       "    <tr>\n",
       "      <th>96749</th>\n",
       "      <td>96751</td>\n",
       "      <td>5142226486</td>\n",
       "      <td>2010-12-31</td>\n",
       "      <td>4503057341100</td>\n",
       "      <td>TECH PAC, INC</td>\n",
       "      <td>OH</td>\n",
       "      <td>45150</td>\n",
       "      <td>P</td>\n",
       "      <td>363.56</td>\n",
       "      <td>0</td>\n",
       "      <td>Ohio</td>\n",
       "      <td>43001.0</td>\n",
       "      <td>45999.0</td>\n",
       "    </tr>\n",
       "    <tr>\n",
       "      <th>96750</th>\n",
       "      <td>96752</td>\n",
       "      <td>5142244619</td>\n",
       "      <td>2010-12-31</td>\n",
       "      <td>8834000695412</td>\n",
       "      <td>BUY.COM</td>\n",
       "      <td>CA</td>\n",
       "      <td>94402</td>\n",
       "      <td>P</td>\n",
       "      <td>2202.03</td>\n",
       "      <td>0</td>\n",
       "      <td>California</td>\n",
       "      <td>90001.0</td>\n",
       "      <td>96162.0</td>\n",
       "    </tr>\n",
       "    <tr>\n",
       "      <th>96751</th>\n",
       "      <td>96753</td>\n",
       "      <td>5142243247</td>\n",
       "      <td>2010-12-31</td>\n",
       "      <td>9108347680006</td>\n",
       "      <td>STAPLES NATIONAL #471</td>\n",
       "      <td>NJ</td>\n",
       "      <td>7606</td>\n",
       "      <td>P</td>\n",
       "      <td>554.64</td>\n",
       "      <td>0</td>\n",
       "      <td>New Jersey</td>\n",
       "      <td>7001.0</td>\n",
       "      <td>8989.0</td>\n",
       "    </tr>\n",
       "  </tbody>\n",
       "</table>\n",
       "<p>96752 rows × 13 columns</p>\n",
       "</div>"
      ],
      "text/plain": [
       "       Recnum     Cardnum       Date       Merchnum        Merch description  \\\n",
       "0           1  5142190439 2010-01-01  5509006296254   FEDEX SHP 12/23/09 AB#   \n",
       "1           2  5142183973 2010-01-01    61003026333  SERVICE MERCHANDISE #81   \n",
       "2           3  5142131721 2010-01-01  4503082993600        OFFICE DEPOT #191   \n",
       "3           4  5142148452 2010-01-01  5509006296254   FEDEX SHP 12/28/09 AB#   \n",
       "4           5  5142190439 2010-01-01  5509006296254   FEDEX SHP 12/23/09 AB#   \n",
       "...       ...         ...        ...            ...                      ...   \n",
       "96747   96749  5142276053 2010-12-31  3500000006160   BEST BUY      00001610   \n",
       "96748   96750  5142225701 2010-12-31  8090710030950   MARKUS OFFICE SUPPLIES   \n",
       "96749   96751  5142226486 2010-12-31  4503057341100            TECH PAC, INC   \n",
       "96750   96752  5142244619 2010-12-31  8834000695412                  BUY.COM   \n",
       "96751   96753  5142243247 2010-12-31  9108347680006    STAPLES NATIONAL #471   \n",
       "\n",
       "      Merch state Merch zip Transtype   Amount  Fraud     State Name  Zip_min  \\\n",
       "0              TN     38118         P     3.62      0      Tennessee  37010.0   \n",
       "1              MA      1803         P    31.42      0  Massachusetts   1001.0   \n",
       "2              MD     20706         P   178.49      0       Maryland  20331.0   \n",
       "3              TN     38118         P     3.62      0      Tennessee  37010.0   \n",
       "4              TN     38118         P     3.62      0      Tennessee  37010.0   \n",
       "...           ...       ...       ...      ...    ...            ...      ...   \n",
       "96747          KY     41042         P    84.79      0       Kentucky  40003.0   \n",
       "96748          OH     45248         P   118.75      0           Ohio  43001.0   \n",
       "96749          OH     45150         P   363.56      0           Ohio  43001.0   \n",
       "96750          CA     94402         P  2202.03      0     California  90001.0   \n",
       "96751          NJ      7606         P   554.64      0     New Jersey   7001.0   \n",
       "\n",
       "       Zip_max  \n",
       "0      38589.0  \n",
       "1       2791.0  \n",
       "2      21930.0  \n",
       "3      38589.0  \n",
       "4      38589.0  \n",
       "...        ...  \n",
       "96747  42788.0  \n",
       "96748  45999.0  \n",
       "96749  45999.0  \n",
       "96750  96162.0  \n",
       "96751   8989.0  \n",
       "\n",
       "[96752 rows x 13 columns]"
      ]
     },
     "execution_count": 108,
     "metadata": {},
     "output_type": "execute_result"
    }
   ],
   "source": [
    "df = df.merge(zipfile, on = ['Merch state'], how='left')\n",
    "df"
   ]
  },
  {
   "cell_type": "code",
   "execution_count": 109,
   "metadata": {
    "ExecuteTime": {
     "end_time": "2021-04-29T13:55:40.289537Z",
     "start_time": "2021-04-29T13:55:40.226793Z"
    },
    "scrolled": false
   },
   "outputs": [
    {
     "name": "stdout",
     "output_type": "stream",
     "text": [
      "<class 'pandas.core.frame.DataFrame'>\n",
      "Int64Index: 92043 entries, 0 to 96751\n",
      "Data columns (total 13 columns):\n",
      " #   Column             Non-Null Count  Dtype         \n",
      "---  ------             --------------  -----         \n",
      " 0   Recnum             92043 non-null  int64         \n",
      " 1   Cardnum            92043 non-null  int64         \n",
      " 2   Date               92043 non-null  datetime64[ns]\n",
      " 3   Merchnum           90225 non-null  object        \n",
      " 4   Merch description  92043 non-null  object        \n",
      " 5   Merch state        92043 non-null  object        \n",
      " 6   Merch zip          92043 non-null  object        \n",
      " 7   Transtype          92043 non-null  object        \n",
      " 8   Amount             92043 non-null  float64       \n",
      " 9   Fraud              92043 non-null  int64         \n",
      " 10  State Name         92043 non-null  object        \n",
      " 11  Zip_min            92043 non-null  float64       \n",
      " 12  Zip_max            92043 non-null  float64       \n",
      "dtypes: datetime64[ns](1), float64(3), int64(3), object(6)\n",
      "memory usage: 9.8+ MB\n"
     ]
    }
   ],
   "source": [
    "df_not_miss_zip_state=df[(df['Merch zip'].notnull())&(df['Merch state'].notnull()) & (df['Merch zip']!='unknown')]\n",
    "df_not_miss_zip_state.info()"
   ]
  },
  {
   "cell_type": "markdown",
   "metadata": {},
   "source": [
    "### Check after correction, we still have 42 unmatched rows due to no information found online"
   ]
  },
  {
   "cell_type": "code",
   "execution_count": 110,
   "metadata": {
    "ExecuteTime": {
     "end_time": "2021-04-29T13:55:42.494978Z",
     "start_time": "2021-04-29T13:55:40.293779Z"
    }
   },
   "outputs": [
    {
     "name": "stdout",
     "output_type": "stream",
     "text": [
      "unmatched due to cannot find record online: 42\n"
     ]
    }
   ],
   "source": [
    "rr=0\n",
    "for i in range(len(df_not_miss_zip_state)):\n",
    "    \n",
    "    if df_not_miss_zip_state.iloc[i,6]<df_not_miss_zip_state.iloc[i,11] or df_not_miss_zip_state.iloc[i,6]>df_not_miss_zip_state.iloc[i,12]:\n",
    "        rr=rr+1\n",
    "print('unmatched due to cannot find record online:',rr)    "
   ]
  },
  {
   "cell_type": "markdown",
   "metadata": {},
   "source": [
    "# Fill Merch State "
   ]
  },
  {
   "cell_type": "markdown",
   "metadata": {},
   "source": [
    "### Fill the state for the records with valid zipcode"
   ]
  },
  {
   "cell_type": "code",
   "execution_count": 111,
   "metadata": {
    "ExecuteTime": {
     "end_time": "2021-04-29T13:55:42.504946Z",
     "start_time": "2021-04-29T13:55:42.496715Z"
    }
   },
   "outputs": [
    {
     "data": {
      "text/plain": [
       "1194"
      ]
     },
     "execution_count": 111,
     "metadata": {},
     "output_type": "execute_result"
    }
   ],
   "source": [
    "df['Merch state'].isnull().sum()"
   ]
  },
  {
   "cell_type": "code",
   "execution_count": 112,
   "metadata": {
    "ExecuteTime": {
     "end_time": "2021-04-29T13:55:42.514959Z",
     "start_time": "2021-04-29T13:55:42.506700Z"
    }
   },
   "outputs": [],
   "source": [
    "df = df.drop(columns=['State Name','Zip_min','Zip_max'])"
   ]
  },
  {
   "cell_type": "code",
   "execution_count": 113,
   "metadata": {
    "ExecuteTime": {
     "end_time": "2021-04-29T13:55:42.542505Z",
     "start_time": "2021-04-29T13:55:42.516968Z"
    }
   },
   "outputs": [
    {
     "name": "stderr",
     "output_type": "stream",
     "text": [
      "<ipython-input-113-5c33d556a468>:2: SettingWithCopyWarning: \n",
      "A value is trying to be set on a copy of a slice from a DataFrame.\n",
      "Try using .loc[row_indexer,col_indexer] = value instead\n",
      "\n",
      "See the caveats in the documentation: https://pandas.pydata.org/pandas-docs/stable/user_guide/indexing.html#returning-a-view-versus-a-copy\n",
      "  df_with_zip_nostate['index']=df_with_zip_nostate.index\n"
     ]
    },
    {
     "data": {
      "text/html": [
       "<div>\n",
       "<style scoped>\n",
       "    .dataframe tbody tr th:only-of-type {\n",
       "        vertical-align: middle;\n",
       "    }\n",
       "\n",
       "    .dataframe tbody tr th {\n",
       "        vertical-align: top;\n",
       "    }\n",
       "\n",
       "    .dataframe thead th {\n",
       "        text-align: right;\n",
       "    }\n",
       "</style>\n",
       "<table border=\"1\" class=\"dataframe\">\n",
       "  <thead>\n",
       "    <tr style=\"text-align: right;\">\n",
       "      <th></th>\n",
       "      <th>Recnum</th>\n",
       "      <th>Cardnum</th>\n",
       "      <th>Date</th>\n",
       "      <th>Merchnum</th>\n",
       "      <th>Merch description</th>\n",
       "      <th>Merch state</th>\n",
       "      <th>Merch zip</th>\n",
       "      <th>Transtype</th>\n",
       "      <th>Amount</th>\n",
       "      <th>Fraud</th>\n",
       "      <th>index</th>\n",
       "    </tr>\n",
       "  </thead>\n",
       "  <tbody>\n",
       "    <tr>\n",
       "      <th>3258</th>\n",
       "      <td>3259</td>\n",
       "      <td>5142153880</td>\n",
       "      <td>2010-01-14</td>\n",
       "      <td>582582822587</td>\n",
       "      <td>DIGITAL TECHNOLOGY CONTRA</td>\n",
       "      <td>NaN</td>\n",
       "      <td>926</td>\n",
       "      <td>P</td>\n",
       "      <td>2340.00</td>\n",
       "      <td>0</td>\n",
       "      <td>3258</td>\n",
       "    </tr>\n",
       "    <tr>\n",
       "      <th>3262</th>\n",
       "      <td>3263</td>\n",
       "      <td>5142154098</td>\n",
       "      <td>2010-01-14</td>\n",
       "      <td>582582822587</td>\n",
       "      <td>DIGITAL TECHNOLOGY CONTRA</td>\n",
       "      <td>NaN</td>\n",
       "      <td>926</td>\n",
       "      <td>P</td>\n",
       "      <td>2387.00</td>\n",
       "      <td>0</td>\n",
       "      <td>3262</td>\n",
       "    </tr>\n",
       "    <tr>\n",
       "      <th>3540</th>\n",
       "      <td>3541</td>\n",
       "      <td>5142154098</td>\n",
       "      <td>2010-01-17</td>\n",
       "      <td>582582822587</td>\n",
       "      <td>DIGITAL TECHNOLOGY CONTRA</td>\n",
       "      <td>NaN</td>\n",
       "      <td>926</td>\n",
       "      <td>P</td>\n",
       "      <td>2300.00</td>\n",
       "      <td>0</td>\n",
       "      <td>3540</td>\n",
       "    </tr>\n",
       "    <tr>\n",
       "      <th>3642</th>\n",
       "      <td>3643</td>\n",
       "      <td>5142153880</td>\n",
       "      <td>2010-01-17</td>\n",
       "      <td>582582822587</td>\n",
       "      <td>DIGITAL TECHNOLOGY CONTRA</td>\n",
       "      <td>NaN</td>\n",
       "      <td>926</td>\n",
       "      <td>P</td>\n",
       "      <td>2500.00</td>\n",
       "      <td>0</td>\n",
       "      <td>3642</td>\n",
       "    </tr>\n",
       "    <tr>\n",
       "      <th>4969</th>\n",
       "      <td>4970</td>\n",
       "      <td>5142194136</td>\n",
       "      <td>2010-01-24</td>\n",
       "      <td>597597721468</td>\n",
       "      <td>CRISTALIA ACQUISITION COR</td>\n",
       "      <td>NaN</td>\n",
       "      <td>929</td>\n",
       "      <td>P</td>\n",
       "      <td>83.00</td>\n",
       "      <td>0</td>\n",
       "      <td>4969</td>\n",
       "    </tr>\n",
       "    <tr>\n",
       "      <th>...</th>\n",
       "      <td>...</td>\n",
       "      <td>...</td>\n",
       "      <td>...</td>\n",
       "      <td>...</td>\n",
       "      <td>...</td>\n",
       "      <td>...</td>\n",
       "      <td>...</td>\n",
       "      <td>...</td>\n",
       "      <td>...</td>\n",
       "      <td>...</td>\n",
       "      <td>...</td>\n",
       "    </tr>\n",
       "    <tr>\n",
       "      <th>83271</th>\n",
       "      <td>83273</td>\n",
       "      <td>5142193384</td>\n",
       "      <td>2010-10-26</td>\n",
       "      <td>600555303209</td>\n",
       "      <td>EMBASSY SUITES PR</td>\n",
       "      <td>NaN</td>\n",
       "      <td>38117</td>\n",
       "      <td>P</td>\n",
       "      <td>300.00</td>\n",
       "      <td>0</td>\n",
       "      <td>83271</td>\n",
       "    </tr>\n",
       "    <tr>\n",
       "      <th>83424</th>\n",
       "      <td>83426</td>\n",
       "      <td>5142193384</td>\n",
       "      <td>2010-10-27</td>\n",
       "      <td>600555303209</td>\n",
       "      <td>EMBASSY SUITES PR</td>\n",
       "      <td>NaN</td>\n",
       "      <td>38117</td>\n",
       "      <td>P</td>\n",
       "      <td>600.00</td>\n",
       "      <td>0</td>\n",
       "      <td>83424</td>\n",
       "    </tr>\n",
       "    <tr>\n",
       "      <th>83453</th>\n",
       "      <td>83455</td>\n",
       "      <td>5142193384</td>\n",
       "      <td>2010-10-27</td>\n",
       "      <td>600555303209</td>\n",
       "      <td>EMBASSY SUITES PR</td>\n",
       "      <td>NaN</td>\n",
       "      <td>38117</td>\n",
       "      <td>P</td>\n",
       "      <td>600.00</td>\n",
       "      <td>0</td>\n",
       "      <td>83453</td>\n",
       "    </tr>\n",
       "    <tr>\n",
       "      <th>86404</th>\n",
       "      <td>86406</td>\n",
       "      <td>5142194136</td>\n",
       "      <td>2010-11-10</td>\n",
       "      <td>7007631331</td>\n",
       "      <td>AAFES BUCHANAN MAIN STR</td>\n",
       "      <td>NaN</td>\n",
       "      <td>934</td>\n",
       "      <td>P</td>\n",
       "      <td>184.41</td>\n",
       "      <td>0</td>\n",
       "      <td>86404</td>\n",
       "    </tr>\n",
       "    <tr>\n",
       "      <th>90258</th>\n",
       "      <td>90260</td>\n",
       "      <td>5142233702</td>\n",
       "      <td>2010-12-01</td>\n",
       "      <td>4006851471</td>\n",
       "      <td>INTERNET VISION</td>\n",
       "      <td>NaN</td>\n",
       "      <td>41160</td>\n",
       "      <td>P</td>\n",
       "      <td>131.00</td>\n",
       "      <td>0</td>\n",
       "      <td>90258</td>\n",
       "    </tr>\n",
       "  </tbody>\n",
       "</table>\n",
       "<p>87 rows × 11 columns</p>\n",
       "</div>"
      ],
      "text/plain": [
       "       Recnum     Cardnum       Date      Merchnum          Merch description  \\\n",
       "3258     3259  5142153880 2010-01-14  582582822587  DIGITAL TECHNOLOGY CONTRA   \n",
       "3262     3263  5142154098 2010-01-14  582582822587  DIGITAL TECHNOLOGY CONTRA   \n",
       "3540     3541  5142154098 2010-01-17  582582822587  DIGITAL TECHNOLOGY CONTRA   \n",
       "3642     3643  5142153880 2010-01-17  582582822587  DIGITAL TECHNOLOGY CONTRA   \n",
       "4969     4970  5142194136 2010-01-24  597597721468  CRISTALIA ACQUISITION COR   \n",
       "...       ...         ...        ...           ...                        ...   \n",
       "83271   83273  5142193384 2010-10-26  600555303209          EMBASSY SUITES PR   \n",
       "83424   83426  5142193384 2010-10-27  600555303209          EMBASSY SUITES PR   \n",
       "83453   83455  5142193384 2010-10-27  600555303209          EMBASSY SUITES PR   \n",
       "86404   86406  5142194136 2010-11-10    7007631331    AAFES BUCHANAN MAIN STR   \n",
       "90258   90260  5142233702 2010-12-01    4006851471            INTERNET VISION   \n",
       "\n",
       "      Merch state Merch zip Transtype   Amount  Fraud  index  \n",
       "3258          NaN       926         P  2340.00      0   3258  \n",
       "3262          NaN       926         P  2387.00      0   3262  \n",
       "3540          NaN       926         P  2300.00      0   3540  \n",
       "3642          NaN       926         P  2500.00      0   3642  \n",
       "4969          NaN       929         P    83.00      0   4969  \n",
       "...           ...       ...       ...      ...    ...    ...  \n",
       "83271         NaN     38117         P   300.00      0  83271  \n",
       "83424         NaN     38117         P   600.00      0  83424  \n",
       "83453         NaN     38117         P   600.00      0  83453  \n",
       "86404         NaN       934         P   184.41      0  86404  \n",
       "90258         NaN     41160         P   131.00      0  90258  \n",
       "\n",
       "[87 rows x 11 columns]"
      ]
     },
     "execution_count": 113,
     "metadata": {},
     "output_type": "execute_result"
    }
   ],
   "source": [
    "df_with_zip_nostate=df[(df['Merch zip'].notnull())&(df['Merch state'].isnull())]\n",
    "df_with_zip_nostate['index']=df_with_zip_nostate.index\n",
    "df_with_zip_nostate"
   ]
  },
  {
   "cell_type": "code",
   "execution_count": 114,
   "metadata": {
    "ExecuteTime": {
     "end_time": "2021-04-29T13:55:42.546852Z",
     "start_time": "2021-04-29T13:55:42.543797Z"
    }
   },
   "outputs": [
    {
     "data": {
      "text/plain": [
       "87"
      ]
     },
     "execution_count": 114,
     "metadata": {},
     "output_type": "execute_result"
    }
   ],
   "source": [
    "ii=list(range(len(df_with_zip_nostate.index)))\n",
    "len(ii)"
   ]
  },
  {
   "cell_type": "code",
   "execution_count": 115,
   "metadata": {
    "ExecuteTime": {
     "end_time": "2021-04-29T13:55:42.724581Z",
     "start_time": "2021-04-29T13:55:42.549129Z"
    }
   },
   "outputs": [
    {
     "name": "stderr",
     "output_type": "stream",
     "text": [
      "<ipython-input-115-263413389703>:4: RuntimeWarning: invalid value encountered in less_equal\n",
      "  if df_with_zip_nostate.iloc[i,5]>=zipfile.iloc[j,2] and df_with_zip_nostate.iloc[i,5]<=zipfile.iloc[j,3]:\n"
     ]
    }
   ],
   "source": [
    "for i in ii:\n",
    "    if type(df_with_zip_nostate.iloc[i,5])== float:\n",
    "        for j in range(len(zipfile)):\n",
    "            if df_with_zip_nostate.iloc[i,5]>=zipfile.iloc[j,2] and df_with_zip_nostate.iloc[i,5]<=zipfile.iloc[j,3]:\n",
    "                #df_with_state_nozip.iloc[i,4]=zipfile.iloc[j,1]\n",
    "                df.iloc[df_with_zip_nostate.iloc[i,9],4] = zipfile.iloc[j,1]\n",
    "                #print(df.iloc[df_with_zip_nostate.iloc[i,9],4])"
   ]
  },
  {
   "cell_type": "code",
   "execution_count": 116,
   "metadata": {
    "ExecuteTime": {
     "end_time": "2021-04-29T13:55:42.735357Z",
     "start_time": "2021-04-29T13:55:42.726753Z"
    }
   },
   "outputs": [
    {
     "data": {
      "text/plain": [
       "1194"
      ]
     },
     "execution_count": 116,
     "metadata": {},
     "output_type": "execute_result"
    }
   ],
   "source": [
    "# Left missing values \n",
    "df['Merch state'].isnull().sum()"
   ]
  },
  {
   "cell_type": "code",
   "execution_count": 117,
   "metadata": {
    "ExecuteTime": {
     "end_time": "2021-04-29T13:56:50.216601Z",
     "start_time": "2021-04-29T13:55:42.737980Z"
    }
   },
   "outputs": [],
   "source": [
    "# Step 1: Group by Cardnum, Date, find the mode of state for each group \n",
    "\n",
    "temp_1 = df.groupby(['Cardnum','Date'])[['Merch state']].apply(lambda x: x.mode()).reset_index()\n",
    "temp_1 = temp_1[temp_1.level_2 == 0].iloc[:, [0,1,3]]\n",
    "temp_1.columns = ['Cardnum','Date','mode_state']\n",
    "df = df.merge(temp_1, how ='left', on = ['Cardnum','Date'])\n",
    "df['Merch state'] = df['Merch state'].fillna(df['mode_state'])"
   ]
  },
  {
   "cell_type": "code",
   "execution_count": 118,
   "metadata": {
    "ExecuteTime": {
     "end_time": "2021-04-29T13:56:50.225717Z",
     "start_time": "2021-04-29T13:56:50.218627Z"
    }
   },
   "outputs": [
    {
     "data": {
      "text/plain": [
       "796"
      ]
     },
     "execution_count": 118,
     "metadata": {},
     "output_type": "execute_result"
    }
   ],
   "source": [
    "# Left missing merch state\n",
    "df['Merch state'].isnull().sum()"
   ]
  },
  {
   "cell_type": "code",
   "execution_count": 119,
   "metadata": {
    "ExecuteTime": {
     "end_time": "2021-04-29T13:56:50.246943Z",
     "start_time": "2021-04-29T13:56:50.227228Z"
    }
   },
   "outputs": [],
   "source": [
    "df = df.drop(columns=['mode_state'])"
   ]
  },
  {
   "cell_type": "code",
   "execution_count": 120,
   "metadata": {
    "ExecuteTime": {
     "end_time": "2021-04-29T13:57:31.486815Z",
     "start_time": "2021-04-29T13:56:50.248584Z"
    }
   },
   "outputs": [
    {
     "data": {
      "text/plain": [
       "580"
      ]
     },
     "execution_count": 120,
     "metadata": {},
     "output_type": "execute_result"
    }
   ],
   "source": [
    "# Step 2: Groupby Cardnum, Merch description, find the mode of state for each group \n",
    "\n",
    "temp_2 = df.groupby(['Cardnum','Merch description'])[['Merch state']].apply(lambda x: x.mode()).reset_index()\n",
    "temp_2 = temp_2[temp_2.level_2 == 0].iloc[:, [0,1,3]]\n",
    "temp_2.columns = ['Cardnum','Merch description','mode_state']\n",
    "df = df.merge(temp_2, how='left', on=['Cardnum','Merch description'])\n",
    "df['Merch state'] = df['Merch state'].fillna(df['mode_state'])\n",
    "df['Merch state'].isnull().sum()"
   ]
  },
  {
   "cell_type": "code",
   "execution_count": 121,
   "metadata": {
    "ExecuteTime": {
     "end_time": "2021-04-29T13:57:31.508381Z",
     "start_time": "2021-04-29T13:57:31.488271Z"
    }
   },
   "outputs": [],
   "source": [
    "df = df.drop(columns=['mode_state'])"
   ]
  },
  {
   "cell_type": "code",
   "execution_count": 122,
   "metadata": {
    "ExecuteTime": {
     "end_time": "2021-04-29T13:57:44.230743Z",
     "start_time": "2021-04-29T13:57:31.509850Z"
    }
   },
   "outputs": [
    {
     "data": {
      "text/plain": [
       "167"
      ]
     },
     "execution_count": 122,
     "metadata": {},
     "output_type": "execute_result"
    }
   ],
   "source": [
    "# Step 3: Groupby Merch description, find the mode of state for each group\n",
    "temp_3 = df.groupby('Merch description')[['Merch state']].apply(lambda x: x.mode()).reset_index()\n",
    "temp_3 = temp_3[temp_3.level_1 == 0].iloc[:, [0,2]]\n",
    "temp_3.columns = ['Merch description','mode_state']\n",
    "df = df.merge(temp_3, how='left', on=['Merch description'])\n",
    "df['Merch state'] = df['Merch state'].fillna(df['mode_state'])\n",
    "df['Merch state'].isnull().sum()"
   ]
  },
  {
   "cell_type": "code",
   "execution_count": 123,
   "metadata": {
    "ExecuteTime": {
     "end_time": "2021-04-29T13:57:44.252443Z",
     "start_time": "2021-04-29T13:57:44.232204Z"
    }
   },
   "outputs": [],
   "source": [
    "df = df.drop(columns=['mode_state'])"
   ]
  },
  {
   "cell_type": "code",
   "execution_count": 124,
   "metadata": {
    "ExecuteTime": {
     "end_time": "2021-04-29T13:57:57.007221Z",
     "start_time": "2021-04-29T13:57:44.253917Z"
    }
   },
   "outputs": [
    {
     "data": {
      "text/plain": [
       "148"
      ]
     },
     "execution_count": 124,
     "metadata": {},
     "output_type": "execute_result"
    }
   ],
   "source": [
    "# Step 4: Groupby Merchnum, find the mode of state for each group\n",
    "temp_4 = df.groupby('Merchnum')[['Merch state']].apply(lambda x: x.mode()).reset_index()\n",
    "temp_4 = temp_4[temp_4.level_1 == 0].iloc[:, [0,2]]\n",
    "temp_4.columns = ['Merchnum','mode_state']\n",
    "df = df.merge(temp_4, how='left', on=['Merchnum'])\n",
    "df['Merch state'] = df['Merch state'].fillna(df['mode_state'])\n",
    "df['Merch state'].isnull().sum()"
   ]
  },
  {
   "cell_type": "code",
   "execution_count": 125,
   "metadata": {
    "ExecuteTime": {
     "end_time": "2021-04-29T13:57:57.030560Z",
     "start_time": "2021-04-29T13:57:57.009034Z"
    }
   },
   "outputs": [],
   "source": [
    "df = df.drop(columns=['mode_state'])"
   ]
  },
  {
   "cell_type": "code",
   "execution_count": 126,
   "metadata": {
    "ExecuteTime": {
     "end_time": "2021-04-29T13:57:58.671089Z",
     "start_time": "2021-04-29T13:57:57.031986Z"
    }
   },
   "outputs": [
    {
     "data": {
      "text/plain": [
       "32"
      ]
     },
     "execution_count": 126,
     "metadata": {},
     "output_type": "execute_result"
    }
   ],
   "source": [
    "# Step 4: Groupby Cardnum, find the mode of state for each group\n",
    "temp_5 = df.groupby('Cardnum')[['Merch state']].apply(lambda x: x.mode()).reset_index()\n",
    "temp_5 = temp_5[temp_5.level_1 == 0].iloc[:, [0,2]]\n",
    "temp_5.columns = ['Cardnum','mode_state']\n",
    "df = df.merge(temp_5, how='left', on=['Cardnum'])\n",
    "df['Merch state'] = df['Merch state'].fillna(df['mode_state'])\n",
    "df['Merch state'].isnull().sum()"
   ]
  },
  {
   "cell_type": "code",
   "execution_count": 127,
   "metadata": {
    "ExecuteTime": {
     "end_time": "2021-04-29T13:57:58.691749Z",
     "start_time": "2021-04-29T13:57:58.672904Z"
    }
   },
   "outputs": [
    {
     "data": {
      "text/plain": [
       "array([5142110691, 5142310397, 5142110313, 5142240894], dtype=int64)"
      ]
     },
     "execution_count": 127,
     "metadata": {},
     "output_type": "execute_result"
    }
   ],
   "source": [
    "# Check the left missing records, we found no information can help to fill these, so just fill unknown\n",
    "df.loc[df['Merch state'].isnull()]['Cardnum'].unique()"
   ]
  },
  {
   "cell_type": "code",
   "execution_count": 128,
   "metadata": {
    "ExecuteTime": {
     "end_time": "2021-04-29T13:57:58.700061Z",
     "start_time": "2021-04-29T13:57:58.693394Z"
    }
   },
   "outputs": [],
   "source": [
    "# Check the left missing records, we found no information can help to fill these, so just fill unknown\n",
    "df['Merch state'] = df['Merch state'].fillna('unknown')"
   ]
  },
  {
   "cell_type": "code",
   "execution_count": 129,
   "metadata": {
    "ExecuteTime": {
     "end_time": "2021-04-29T13:57:58.707527Z",
     "start_time": "2021-04-29T13:57:58.701323Z"
    }
   },
   "outputs": [
    {
     "data": {
      "text/plain": [
       "0"
      ]
     },
     "execution_count": 129,
     "metadata": {},
     "output_type": "execute_result"
    }
   ],
   "source": [
    "# Done with Merch state fill\n",
    "df['Merch state'].isnull().sum()"
   ]
  },
  {
   "cell_type": "code",
   "execution_count": 130,
   "metadata": {
    "ExecuteTime": {
     "end_time": "2021-04-29T13:57:58.717939Z",
     "start_time": "2021-04-29T13:57:58.708944Z"
    }
   },
   "outputs": [],
   "source": [
    "df = df.drop(columns=['mode_state'])"
   ]
  },
  {
   "cell_type": "markdown",
   "metadata": {},
   "source": [
    "# Fill Merch Zip "
   ]
  },
  {
   "cell_type": "code",
   "execution_count": 131,
   "metadata": {
    "ExecuteTime": {
     "end_time": "2021-04-29T13:57:58.727966Z",
     "start_time": "2021-04-29T13:57:58.720367Z"
    }
   },
   "outputs": [
    {
     "data": {
      "text/plain": [
       "4616"
      ]
     },
     "execution_count": 131,
     "metadata": {},
     "output_type": "execute_result"
    }
   ],
   "source": [
    "# Original missing records\n",
    "df['Merch zip'].isnull().sum()"
   ]
  },
  {
   "cell_type": "code",
   "execution_count": 132,
   "metadata": {
    "ExecuteTime": {
     "end_time": "2021-04-29T13:59:19.959317Z",
     "start_time": "2021-04-29T13:57:58.730989Z"
    }
   },
   "outputs": [],
   "source": [
    "# Step 1: Group by cardnum, date, merch state, merch description, find the mode of the zip\n",
    "temp_1 = df.groupby(['Cardnum','Date','Merch state','Merch description'])[['Merch zip']].apply(lambda x: x.mode()).reset_index()\n",
    "temp_1 = temp_1[temp_1.level_4 == 0].iloc[:,[0,1,2,3,5]]\n",
    "temp_1.columns = ['Cardnum','Date','Merch state','Merch description','mode_zip']\n",
    "df = df.merge(temp_1, how ='left', on = ['Cardnum','Date','Merch state','Merch description'])\n",
    "df['Merch zip'] = df['Merch zip'].fillna(df['mode_zip'])\n"
   ]
  },
  {
   "cell_type": "code",
   "execution_count": 133,
   "metadata": {
    "ExecuteTime": {
     "end_time": "2021-04-29T13:59:19.987880Z",
     "start_time": "2021-04-29T13:59:19.961711Z"
    }
   },
   "outputs": [
    {
     "name": "stdout",
     "output_type": "stream",
     "text": [
      "4460\n"
     ]
    }
   ],
   "source": [
    "# Left missing records \n",
    "print(df['Merch zip'].isnull().sum())\n",
    "df = df.drop(columns=['mode_zip'])"
   ]
  },
  {
   "cell_type": "code",
   "execution_count": 134,
   "metadata": {
    "ExecuteTime": {
     "end_time": "2021-04-29T13:59:33.407819Z",
     "start_time": "2021-04-29T13:59:19.989186Z"
    }
   },
   "outputs": [],
   "source": [
    "# Step 2 : Group by Merch state, Merch description, find the mode of the zip \n",
    "temp_2 = df.groupby(['Merch state','Merch description'])[['Merch zip']].apply(lambda x: x.mode()).reset_index()\n",
    "temp_2 = temp_2[temp_2.level_2 == 0].iloc[:,[0,1,3]]\n",
    "temp_2.columns = ['Merch state','Merch description','mode_zip']\n",
    "df = df.merge(temp_2, how ='left', on = ['Merch state','Merch description'])\n",
    "df['Merch zip'] = df['Merch zip'].fillna(df['mode_zip'])"
   ]
  },
  {
   "cell_type": "code",
   "execution_count": 135,
   "metadata": {
    "ExecuteTime": {
     "end_time": "2021-04-29T13:59:33.436789Z",
     "start_time": "2021-04-29T13:59:33.410452Z"
    }
   },
   "outputs": [
    {
     "name": "stdout",
     "output_type": "stream",
     "text": [
      "After step 2, 2554\n"
     ]
    }
   ],
   "source": [
    "# Left missing records \n",
    "print('After step 2,',df['Merch zip'].isnull().sum())\n",
    "df = df.drop(columns=['mode_zip'])"
   ]
  },
  {
   "cell_type": "code",
   "execution_count": 136,
   "metadata": {
    "ExecuteTime": {
     "end_time": "2021-04-29T13:59:46.515196Z",
     "start_time": "2021-04-29T13:59:33.438527Z"
    }
   },
   "outputs": [],
   "source": [
    "# Step 3: Group by Merch state, Merchnum, find the mode of the zip \n",
    "temp_3 = df.groupby(['Merch state','Merchnum'])[['Merch zip']].apply(lambda x: x.mode()).reset_index()\n",
    "temp_3 = temp_3[temp_3.level_2 == 0].iloc[:,[0,1,3]]\n",
    "temp_3.columns = ['Merch state','Merchnum','mode_zip']\n",
    "df = df.merge(temp_3, how ='left', on = ['Merch state','Merchnum'])\n",
    "df['Merch zip'] = df['Merch zip'].fillna(df['mode_zip'])"
   ]
  },
  {
   "cell_type": "code",
   "execution_count": 137,
   "metadata": {
    "ExecuteTime": {
     "end_time": "2021-04-29T13:59:46.544294Z",
     "start_time": "2021-04-29T13:59:46.517229Z"
    }
   },
   "outputs": [
    {
     "name": "stdout",
     "output_type": "stream",
     "text": [
      "After step 3, 2522\n"
     ]
    }
   ],
   "source": [
    "# Left missing records \n",
    "print('After step 3,',df['Merch zip'].isnull().sum())\n",
    "df = df.drop(columns=['mode_zip'])"
   ]
  },
  {
   "cell_type": "code",
   "execution_count": 138,
   "metadata": {
    "ExecuteTime": {
     "end_time": "2021-04-29T14:00:49.228632Z",
     "start_time": "2021-04-29T13:59:46.546117Z"
    }
   },
   "outputs": [
    {
     "name": "stderr",
     "output_type": "stream",
     "text": [
      "D:\\anaconda\\lib\\site-packages\\pandas\\core\\algorithms.py:846: UserWarning: Unable to sort modes: '<' not supported between instances of 'str' and 'float'\n",
      "  warn(f\"Unable to sort modes: {err}\")\n"
     ]
    }
   ],
   "source": [
    "# Step 4: Group by Cardnum, date, find the mode of the zip \n",
    "temp_4 = df.groupby(['Cardnum','Date'])[['Merch zip']].apply(lambda x: x.mode()).reset_index()\n",
    "temp_4 = temp_4[temp_4.level_2 == 0].iloc[:,[0,1,3]]\n",
    "temp_4.columns = ['Cardnum','Date','mode_zip']\n",
    "df = df.merge(temp_4, how ='left', on = ['Cardnum','Date'])\n",
    "df['Merch zip'] = df['Merch zip'].fillna(df['mode_zip'])"
   ]
  },
  {
   "cell_type": "code",
   "execution_count": 139,
   "metadata": {
    "ExecuteTime": {
     "end_time": "2021-04-29T14:00:49.258066Z",
     "start_time": "2021-04-29T14:00:49.230075Z"
    }
   },
   "outputs": [
    {
     "name": "stdout",
     "output_type": "stream",
     "text": [
      "1617\n"
     ]
    }
   ],
   "source": [
    "# Left missing records \n",
    "print(df['Merch zip'].isnull().sum())\n",
    "df = df.drop(columns=['mode_zip'])"
   ]
  },
  {
   "cell_type": "code",
   "execution_count": 140,
   "metadata": {
    "ExecuteTime": {
     "end_time": "2021-04-29T14:00:49.577872Z",
     "start_time": "2021-04-29T14:00:49.259570Z"
    }
   },
   "outputs": [],
   "source": [
    "# Step 5: Group by Merch state, find the mode of the zip \n",
    "temp_5 = df.groupby(['Merch state'])[['Merch zip']].apply(lambda x: x.mode()).reset_index()\n",
    "temp_5 = temp_5[temp_5.level_1 == 0].iloc[:,[0,2]]\n",
    "temp_5.columns = ['Merch state','mode_zip']\n",
    "df = df.merge(temp_5, how ='left', on = ['Merch state'])\n",
    "df['Merch zip'] = df['Merch zip'].fillna(df['mode_zip'])"
   ]
  },
  {
   "cell_type": "code",
   "execution_count": 141,
   "metadata": {
    "ExecuteTime": {
     "end_time": "2021-04-29T14:00:49.604885Z",
     "start_time": "2021-04-29T14:00:49.579548Z"
    }
   },
   "outputs": [
    {
     "name": "stdout",
     "output_type": "stream",
     "text": [
      "153\n"
     ]
    }
   ],
   "source": [
    "# Left missing records \n",
    "print(df['Merch zip'].isnull().sum())\n",
    "df = df.drop(columns=['mode_zip'])"
   ]
  },
  {
   "cell_type": "code",
   "execution_count": 142,
   "metadata": {
    "ExecuteTime": {
     "end_time": "2021-04-29T14:00:51.354145Z",
     "start_time": "2021-04-29T14:00:49.607169Z"
    }
   },
   "outputs": [],
   "source": [
    "# Step 6: Group by Cardnum, find the mode of the zip \n",
    "temp_6 = df.groupby(['Cardnum'])[['Merch zip']].apply(lambda x: x.mode()).reset_index()\n",
    "temp_6 = temp_6[temp_6.level_1 == 0].iloc[:,[0,2]]\n",
    "temp_6.columns = ['Cardnum','mode_zip']\n",
    "df = df.merge(temp_6, how ='left', on = ['Cardnum'])\n",
    "df['Merch zip'] = df['Merch zip'].fillna(df['mode_zip'])"
   ]
  },
  {
   "cell_type": "code",
   "execution_count": 143,
   "metadata": {
    "ExecuteTime": {
     "end_time": "2021-04-29T14:02:23.707240Z",
     "start_time": "2021-04-29T14:02:23.682016Z"
    }
   },
   "outputs": [
    {
     "name": "stdout",
     "output_type": "stream",
     "text": [
      "3\n"
     ]
    }
   ],
   "source": [
    "# Left missing records \n",
    "print(df['Merch zip'].isnull().sum())\n",
    "df = df.drop(columns=['mode_zip'])"
   ]
  },
  {
   "cell_type": "code",
   "execution_count": 144,
   "metadata": {
    "ExecuteTime": {
     "end_time": "2021-04-29T14:05:47.956059Z",
     "start_time": "2021-04-29T14:05:47.947194Z"
    }
   },
   "outputs": [],
   "source": [
    "# Check the left missing records, we found no information can help to fill these, so just fill unknown\n",
    "df['Merch zip'] = df['Merch zip'].fillna('unknown')"
   ]
  },
  {
   "cell_type": "code",
   "execution_count": 145,
   "metadata": {
    "ExecuteTime": {
     "end_time": "2021-04-29T14:06:17.533726Z",
     "start_time": "2021-04-29T14:06:17.526375Z"
    },
    "scrolled": true
   },
   "outputs": [
    {
     "data": {
      "text/plain": [
       "0"
      ]
     },
     "execution_count": 145,
     "metadata": {},
     "output_type": "execute_result"
    }
   ],
   "source": [
    "# Done with Merch zip fill\n",
    "df['Merch zip'].isnull().sum()"
   ]
  },
  {
   "cell_type": "markdown",
   "metadata": {},
   "source": [
    "# Fill Merch num\n"
   ]
  },
  {
   "cell_type": "code",
   "execution_count": 146,
   "metadata": {},
   "outputs": [
    {
     "data": {
      "text/plain": [
       "3374"
      ]
     },
     "execution_count": 146,
     "metadata": {},
     "output_type": "execute_result"
    }
   ],
   "source": [
    "# Original missing records\n",
    "df['Merchnum'].isnull().sum()"
   ]
  },
  {
   "cell_type": "code",
   "execution_count": 147,
   "metadata": {},
   "outputs": [],
   "source": [
    "# Step 1: Group by Merch state, Merch zip, Merch description, find the mode of the Merchnum\n",
    "temp_1 = df.groupby(['Merch state','Merch zip','Merch description'])[['Merchnum']].apply(lambda x: x.mode()).reset_index()\n",
    "temp_1 = temp_1[temp_1.level_3 == 0].iloc[:,[0,1,2,4]]\n",
    "temp_1.columns = ['Merch state','Merch zip','Merch description','mode_merchnum']\n",
    "df = df.merge(temp_1, how ='left', on = ['Merch state','Merch zip','Merch description'])\n",
    "df['Merchnum'] = df['Merchnum'].fillna(df['mode_merchnum'])\n"
   ]
  },
  {
   "cell_type": "code",
   "execution_count": 148,
   "metadata": {},
   "outputs": [
    {
     "name": "stdout",
     "output_type": "stream",
     "text": [
      "2249\n"
     ]
    }
   ],
   "source": [
    "print(df['Merchnum'].isnull().sum())\n",
    "df = df.drop(columns=['mode_merchnum'])"
   ]
  },
  {
   "cell_type": "code",
   "execution_count": 149,
   "metadata": {},
   "outputs": [],
   "source": [
    "# Step 2 : Group by Merch state, Merch description, find the mode of the zip \n",
    "temp_2 = df.groupby(['Merch state','Merch description'])[['Merchnum']].apply(lambda x: x.mode()).reset_index()\n",
    "temp_2 = temp_2[temp_2.level_2 == 0].iloc[:,[0,1,3]]\n",
    "temp_2.columns = ['Merch state','Merch description','mode_merchnum']\n",
    "df = df.merge(temp_2, how ='left', on = ['Merch state','Merch description'])\n",
    "df['Merchnum'] = df['Merchnum'].fillna(df['mode_merchnum'])"
   ]
  },
  {
   "cell_type": "code",
   "execution_count": 150,
   "metadata": {},
   "outputs": [
    {
     "name": "stdout",
     "output_type": "stream",
     "text": [
      "2234\n"
     ]
    }
   ],
   "source": [
    "print(df['Merchnum'].isnull().sum())\n",
    "df = df.drop(columns=['mode_merchnum'])"
   ]
  },
  {
   "cell_type": "code",
   "execution_count": 154,
   "metadata": {},
   "outputs": [],
   "source": [
    "# Step 3 : Group by Merch zip, Merch description, find the mode of the Merchnum\n",
    "temp_3 = df.groupby(['Merch zip','Merch description'])[['Merchnum']].apply(lambda x: x.mode()).reset_index()\n",
    "temp_3 = temp_3[temp_3.level_2 == 0].iloc[:,[0,1,3]]\n",
    "temp_3.columns = ['Merch zip','Merch description','mode_merchnum']\n",
    "df = df.merge(temp_3, how ='left', on = ['Merch zip','Merch description'])\n",
    "df['Merchnum'] = df['Merchnum'].fillna(df['mode_merchnum'])"
   ]
  },
  {
   "cell_type": "code",
   "execution_count": 155,
   "metadata": {},
   "outputs": [
    {
     "name": "stdout",
     "output_type": "stream",
     "text": [
      "2233\n"
     ]
    }
   ],
   "source": [
    "print(df['Merchnum'].isnull().sum())\n",
    "df = df.drop(columns=['mode_merchnum'])"
   ]
  },
  {
   "cell_type": "code",
   "execution_count": 156,
   "metadata": {},
   "outputs": [],
   "source": [
    "# Step 4: Group by Merch state, find the mode of the Merchnum\n",
    "temp_4 = df.groupby(['Merch state'])[['Merchnum']].apply(lambda x: x.mode()).reset_index()\n",
    "temp_4 = temp_4[temp_4.level_1 == 0].iloc[:,[0,2]]\n",
    "temp_4.columns = ['Merch state','mode_merchnum']\n",
    "df = df.merge(temp_4, how ='left', on = ['Merch state'])\n",
    "df['Merchnum'] = df['Merchnum'].fillna(df['mode_merchnum'])"
   ]
  },
  {
   "cell_type": "code",
   "execution_count": 157,
   "metadata": {},
   "outputs": [
    {
     "name": "stdout",
     "output_type": "stream",
     "text": [
      "50\n"
     ]
    }
   ],
   "source": [
    "print(df['Merchnum'].isnull().sum())\n",
    "df = df.drop(columns=['mode_merchnum'])"
   ]
  },
  {
   "cell_type": "code",
   "execution_count": 158,
   "metadata": {},
   "outputs": [],
   "source": [
    "# Step 5: Group by Merch description, find the mode of the Merchnum \n",
    "temp_5 = df.groupby(['Merch description'])[['Merchnum']].apply(lambda x: x.mode()).reset_index()\n",
    "temp_5 = temp_5[temp_5.level_1 == 0].iloc[:,[0,2]]\n",
    "temp_5.columns = ['Merch description','mode_merchnum']\n",
    "df = df.merge(temp_5, how ='left', on = ['Merch description'])\n",
    "df['Merchnum'] = df['Merchnum'].fillna(df['mode_merchnum'])"
   ]
  },
  {
   "cell_type": "code",
   "execution_count": 159,
   "metadata": {},
   "outputs": [
    {
     "name": "stdout",
     "output_type": "stream",
     "text": [
      "49\n"
     ]
    }
   ],
   "source": [
    "print(df['Merchnum'].isnull().sum())\n",
    "df = df.drop(columns=['mode_merchnum'])"
   ]
  },
  {
   "cell_type": "code",
   "execution_count": 160,
   "metadata": {},
   "outputs": [],
   "source": [
    "# Step 6: Group by Merch zip, find the mode of the Merchnum\n",
    "temp_6 = df.groupby(['Merch zip'])[['Merchnum']].apply(lambda x: x.mode()).reset_index()\n",
    "temp_6 = temp_6[temp_6.level_1 == 0].iloc[:,[0,2]]\n",
    "temp_6.columns = ['Merch zip','mode_merchnum']\n",
    "df = df.merge(temp_6, how ='left', on = ['Merch zip'])\n",
    "df['Merchnum'] = df['Merchnum'].fillna(df['mode_merchnum'])"
   ]
  },
  {
   "cell_type": "code",
   "execution_count": 161,
   "metadata": {},
   "outputs": [
    {
     "name": "stdout",
     "output_type": "stream",
     "text": [
      "0\n"
     ]
    }
   ],
   "source": [
    "print(df['Merchnum'].isnull().sum())\n",
    "df = df.drop(columns=['mode_merchnum'])"
   ]
  },
  {
   "cell_type": "code",
   "execution_count": 162,
   "metadata": {},
   "outputs": [],
   "source": [
    "df=df.loc[df['Transtype']=='P']"
   ]
  },
  {
   "cell_type": "code",
   "execution_count": 163,
   "metadata": {},
   "outputs": [
    {
     "data": {
      "text/html": [
       "<div>\n",
       "<style scoped>\n",
       "    .dataframe tbody tr th:only-of-type {\n",
       "        vertical-align: middle;\n",
       "    }\n",
       "\n",
       "    .dataframe tbody tr th {\n",
       "        vertical-align: top;\n",
       "    }\n",
       "\n",
       "    .dataframe thead th {\n",
       "        text-align: right;\n",
       "    }\n",
       "</style>\n",
       "<table border=\"1\" class=\"dataframe\">\n",
       "  <thead>\n",
       "    <tr style=\"text-align: right;\">\n",
       "      <th></th>\n",
       "      <th>Recnum</th>\n",
       "      <th>Cardnum</th>\n",
       "      <th>Date</th>\n",
       "      <th>Merchnum</th>\n",
       "      <th>Merch description</th>\n",
       "      <th>Merch state</th>\n",
       "      <th>Merch zip</th>\n",
       "      <th>Transtype</th>\n",
       "      <th>Amount</th>\n",
       "      <th>Fraud</th>\n",
       "    </tr>\n",
       "  </thead>\n",
       "  <tbody>\n",
       "    <tr>\n",
       "      <th>0</th>\n",
       "      <td>1</td>\n",
       "      <td>5142190439</td>\n",
       "      <td>2010-01-01</td>\n",
       "      <td>5509006296254</td>\n",
       "      <td>FEDEX SHP 12/23/09 AB#</td>\n",
       "      <td>TN</td>\n",
       "      <td>38118</td>\n",
       "      <td>P</td>\n",
       "      <td>3.62</td>\n",
       "      <td>0</td>\n",
       "    </tr>\n",
       "    <tr>\n",
       "      <th>1</th>\n",
       "      <td>2</td>\n",
       "      <td>5142183973</td>\n",
       "      <td>2010-01-01</td>\n",
       "      <td>61003026333</td>\n",
       "      <td>SERVICE MERCHANDISE #81</td>\n",
       "      <td>MA</td>\n",
       "      <td>1803</td>\n",
       "      <td>P</td>\n",
       "      <td>31.42</td>\n",
       "      <td>0</td>\n",
       "    </tr>\n",
       "    <tr>\n",
       "      <th>2</th>\n",
       "      <td>3</td>\n",
       "      <td>5142131721</td>\n",
       "      <td>2010-01-01</td>\n",
       "      <td>4503082993600</td>\n",
       "      <td>OFFICE DEPOT #191</td>\n",
       "      <td>MD</td>\n",
       "      <td>20706</td>\n",
       "      <td>P</td>\n",
       "      <td>178.49</td>\n",
       "      <td>0</td>\n",
       "    </tr>\n",
       "    <tr>\n",
       "      <th>3</th>\n",
       "      <td>4</td>\n",
       "      <td>5142148452</td>\n",
       "      <td>2010-01-01</td>\n",
       "      <td>5509006296254</td>\n",
       "      <td>FEDEX SHP 12/28/09 AB#</td>\n",
       "      <td>TN</td>\n",
       "      <td>38118</td>\n",
       "      <td>P</td>\n",
       "      <td>3.62</td>\n",
       "      <td>0</td>\n",
       "    </tr>\n",
       "    <tr>\n",
       "      <th>4</th>\n",
       "      <td>5</td>\n",
       "      <td>5142190439</td>\n",
       "      <td>2010-01-01</td>\n",
       "      <td>5509006296254</td>\n",
       "      <td>FEDEX SHP 12/23/09 AB#</td>\n",
       "      <td>TN</td>\n",
       "      <td>38118</td>\n",
       "      <td>P</td>\n",
       "      <td>3.62</td>\n",
       "      <td>0</td>\n",
       "    </tr>\n",
       "    <tr>\n",
       "      <th>...</th>\n",
       "      <td>...</td>\n",
       "      <td>...</td>\n",
       "      <td>...</td>\n",
       "      <td>...</td>\n",
       "      <td>...</td>\n",
       "      <td>...</td>\n",
       "      <td>...</td>\n",
       "      <td>...</td>\n",
       "      <td>...</td>\n",
       "      <td>...</td>\n",
       "    </tr>\n",
       "    <tr>\n",
       "      <th>96747</th>\n",
       "      <td>96749</td>\n",
       "      <td>5142276053</td>\n",
       "      <td>2010-12-31</td>\n",
       "      <td>3500000006160</td>\n",
       "      <td>BEST BUY      00001610</td>\n",
       "      <td>KY</td>\n",
       "      <td>41042</td>\n",
       "      <td>P</td>\n",
       "      <td>84.79</td>\n",
       "      <td>0</td>\n",
       "    </tr>\n",
       "    <tr>\n",
       "      <th>96748</th>\n",
       "      <td>96750</td>\n",
       "      <td>5142225701</td>\n",
       "      <td>2010-12-31</td>\n",
       "      <td>8090710030950</td>\n",
       "      <td>MARKUS OFFICE SUPPLIES</td>\n",
       "      <td>OH</td>\n",
       "      <td>45248</td>\n",
       "      <td>P</td>\n",
       "      <td>118.75</td>\n",
       "      <td>0</td>\n",
       "    </tr>\n",
       "    <tr>\n",
       "      <th>96749</th>\n",
       "      <td>96751</td>\n",
       "      <td>5142226486</td>\n",
       "      <td>2010-12-31</td>\n",
       "      <td>4503057341100</td>\n",
       "      <td>TECH PAC, INC</td>\n",
       "      <td>OH</td>\n",
       "      <td>45150</td>\n",
       "      <td>P</td>\n",
       "      <td>363.56</td>\n",
       "      <td>0</td>\n",
       "    </tr>\n",
       "    <tr>\n",
       "      <th>96750</th>\n",
       "      <td>96752</td>\n",
       "      <td>5142244619</td>\n",
       "      <td>2010-12-31</td>\n",
       "      <td>8834000695412</td>\n",
       "      <td>BUY.COM</td>\n",
       "      <td>CA</td>\n",
       "      <td>94402</td>\n",
       "      <td>P</td>\n",
       "      <td>2202.03</td>\n",
       "      <td>0</td>\n",
       "    </tr>\n",
       "    <tr>\n",
       "      <th>96751</th>\n",
       "      <td>96753</td>\n",
       "      <td>5142243247</td>\n",
       "      <td>2010-12-31</td>\n",
       "      <td>9108347680006</td>\n",
       "      <td>STAPLES NATIONAL #471</td>\n",
       "      <td>NJ</td>\n",
       "      <td>7606</td>\n",
       "      <td>P</td>\n",
       "      <td>554.64</td>\n",
       "      <td>0</td>\n",
       "    </tr>\n",
       "  </tbody>\n",
       "</table>\n",
       "<p>96397 rows × 10 columns</p>\n",
       "</div>"
      ],
      "text/plain": [
       "       Recnum     Cardnum       Date       Merchnum        Merch description  \\\n",
       "0           1  5142190439 2010-01-01  5509006296254   FEDEX SHP 12/23/09 AB#   \n",
       "1           2  5142183973 2010-01-01    61003026333  SERVICE MERCHANDISE #81   \n",
       "2           3  5142131721 2010-01-01  4503082993600        OFFICE DEPOT #191   \n",
       "3           4  5142148452 2010-01-01  5509006296254   FEDEX SHP 12/28/09 AB#   \n",
       "4           5  5142190439 2010-01-01  5509006296254   FEDEX SHP 12/23/09 AB#   \n",
       "...       ...         ...        ...            ...                      ...   \n",
       "96747   96749  5142276053 2010-12-31  3500000006160   BEST BUY      00001610   \n",
       "96748   96750  5142225701 2010-12-31  8090710030950   MARKUS OFFICE SUPPLIES   \n",
       "96749   96751  5142226486 2010-12-31  4503057341100            TECH PAC, INC   \n",
       "96750   96752  5142244619 2010-12-31  8834000695412                  BUY.COM   \n",
       "96751   96753  5142243247 2010-12-31  9108347680006    STAPLES NATIONAL #471   \n",
       "\n",
       "      Merch state Merch zip Transtype   Amount  Fraud  \n",
       "0              TN     38118         P     3.62      0  \n",
       "1              MA      1803         P    31.42      0  \n",
       "2              MD     20706         P   178.49      0  \n",
       "3              TN     38118         P     3.62      0  \n",
       "4              TN     38118         P     3.62      0  \n",
       "...           ...       ...       ...      ...    ...  \n",
       "96747          KY     41042         P    84.79      0  \n",
       "96748          OH     45248         P   118.75      0  \n",
       "96749          OH     45150         P   363.56      0  \n",
       "96750          CA     94402         P  2202.03      0  \n",
       "96751          NJ      7606         P   554.64      0  \n",
       "\n",
       "[96397 rows x 10 columns]"
      ]
     },
     "execution_count": 163,
     "metadata": {},
     "output_type": "execute_result"
    }
   ],
   "source": [
    "df"
   ]
  },
  {
   "cell_type": "code",
   "execution_count": 165,
   "metadata": {},
   "outputs": [],
   "source": [
    "df_clean=df.to_csv('df_clean.csv')"
   ]
  }
 ],
 "metadata": {
  "kernelspec": {
   "display_name": "Python 3",
   "language": "python",
   "name": "python3"
  },
  "language_info": {
   "codemirror_mode": {
    "name": "ipython",
    "version": 3
   },
   "file_extension": ".py",
   "mimetype": "text/x-python",
   "name": "python",
   "nbconvert_exporter": "python",
   "pygments_lexer": "ipython3",
   "version": "3.8.3"
  },
  "varInspector": {
   "cols": {
    "lenName": 16,
    "lenType": 16,
    "lenVar": 40
   },
   "kernels_config": {
    "python": {
     "delete_cmd_postfix": "",
     "delete_cmd_prefix": "del ",
     "library": "var_list.py",
     "varRefreshCmd": "print(var_dic_list())"
    },
    "r": {
     "delete_cmd_postfix": ") ",
     "delete_cmd_prefix": "rm(",
     "library": "var_list.r",
     "varRefreshCmd": "cat(var_dic_list()) "
    }
   },
   "types_to_exclude": [
    "module",
    "function",
    "builtin_function_or_method",
    "instance",
    "_Feature"
   ],
   "window_display": false
  }
 },
 "nbformat": 4,
 "nbformat_minor": 4
}
